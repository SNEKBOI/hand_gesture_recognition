{
 "cells": [
  {
   "cell_type": "code",
   "execution_count": 12,
   "metadata": {},
   "outputs": [],
   "source": [
    "import os\n",
    "import numpy as np\n",
    "import matplotlib.pyplot as plt\n",
    "import tensorflow as tf\n",
    "import math\n",
    "import time\n",
    "from datetime import timedelta\n",
    "from scipy import misc\n",
    "import imageio\n",
    "%matplotlib inline"
   ]
  },
  {
   "cell_type": "markdown",
   "metadata": {},
   "source": [
    "# Load data"
   ]
  },
  {
   "cell_type": "code",
   "execution_count": 13,
   "metadata": {},
   "outputs": [],
   "source": [
    "def load_data(PATH):\n",
    "    \n",
    "    def load_images(filenames):\n",
    "        images = np.array([imageio.imread(filename) for filename in filenames])\n",
    "        # print(images.shape)\n",
    "        return images \n",
    "\n",
    "    default_dir = os.getcwd()\n",
    "    os.chdir(PATH)\n",
    "\n",
    "    main_dir = os.getcwd()\n",
    "\n",
    "    sets = os.listdir()\n",
    "    \n",
    "    os.chdir(sets[0])\n",
    "\n",
    "    classes = os.listdir()\n",
    "\n",
    "    train_dir = os.getcwd()\n",
    "   \n",
    "\n",
    "\n",
    "    train_X = [] \n",
    "    train_Y = [] \n",
    "\n",
    "     \n",
    "    for i in range(len(classes)):\n",
    "        os.chdir(classes[i])\n",
    "        filenames = os.listdir()\n",
    "        \n",
    "        \n",
    "        train_X.append(load_images(filenames)) \n",
    "        train_Y.append(np.full((train_X[-1].shape[0], 1), i))\n",
    "        os.chdir(train_dir)\n",
    "        \n",
    "    os.chdir(main_dir)\n",
    "    os.chdir(sets[1]) \n",
    "    test_dir = os.getcwd()\n",
    "\n",
    "    test_X = []\n",
    "    test_Y = []\n",
    "\n",
    "    for i in range(len(classes)):\n",
    "        os.chdir(classes[i])\n",
    "        filenames = os.listdir()        \n",
    "        test_X.append(load_images(filenames)) \n",
    "        test_Y.append(np.full((test_X[-1].shape[0], 1), i))\n",
    "        os.chdir(test_dir)\n",
    "    \n",
    "   # print(train_X))\n",
    "    train_X = np.concatenate((train_X[0], train_X[1]), axis=0)\n",
    "    train_Y = np.concatenate((train_Y), axis=0)\n",
    "    \n",
    "\n",
    "    test_X = np.concatenate((test_X[0], test_X[1]), axis=0)\n",
    "    test_Y = np.concatenate((test_Y), axis=0)\n",
    "\n",
    "    index = 43\n",
    "    plt.imshow(test_X[index], cmap='gray')\n",
    "    plt.title(test_Y[index])\n",
    "    plt.show()\n",
    "\n",
    "    os.chdir(default_dir)\n",
    "    \n",
    "    return train_X, train_Y, test_X, test_Y \n"
   ]
  },
  {
   "cell_type": "code",
   "execution_count": 14,
   "metadata": {},
   "outputs": [],
   "source": [
    "PATH = 'data/like_dislike/'"
   ]
  },
  {
   "cell_type": "code",
   "execution_count": 15,
   "metadata": {},
   "outputs": [
    {
     "data": {
      "image/png": "[encoded data removed]",
      "text/plain": [
       "<matplotlib.figure.Figure at 0x7f2899d599b0>"
      ]
     },
     "metadata": {},
     "output_type": "display_data"
    }
   ],
   "source": [
    "train_X, train_Y_class, test_X, test_Y_class = load_data(PATH)"
   ]
  },
  {
   "cell_type": "code",
   "execution_count": 16,
   "metadata": {},
   "outputs": [],
   "source": [
    "img_size = 100\n",
    "\n",
    "img_size_flat = 100 * 100\n",
    "\n",
    "img_shape = (img_size, img_size)\n",
    "\n",
    "num_channels = 1\n",
    "\n",
    "num_classes = 2"
   ]
  },
  {
   "cell_type": "code",
   "execution_count": 17,
   "metadata": {},
   "outputs": [],
   "source": [
    "def plot_images(images, true_class, pred_class=None):\n",
    "    fig, axes = plt.subplots(3, 3)\n",
    "    fig.subplots_adjust(hspace=0.3, wspace=0.3)\n",
    "    \n",
    "    for i, ax in enumerate(axes.flat):\n",
    "        \n",
    "        ax.imshow(images[i].reshape(100, 100), cmap='gray')\n",
    "        \n",
    "        if pred_class is None:\n",
    "            xlabel = f\"True: {true_class[i]}\"\n",
    "        else:\n",
    "            xlabel = f\"True: {true_class[i]}, Pred: {pred_class[i]}\"\n",
    "        \n",
    "        ax.set_xlabel(xlabel)\n",
    "        \n",
    "        ax.set_xticks([])\n",
    "        ax.set_yticks([])\n",
    "        \n",
    "    plt.show()    "
   ]
  },
  {
   "cell_type": "code",
   "execution_count": 19,
   "metadata": {},
   "outputs": [
    {
     "ename": "IndexError",
     "evalue": "index 0 is out of bounds for axis 0 with size 0",
     "output_type": "error",
     "traceback": [
      "\u001b[0;31m---------------------------------------------------------------------------\u001b[0m",
      "\u001b[0;31mIndexError\u001b[0m                                Traceback (most recent call last)",
      "\u001b[0;32m<ipython-input-19-1eb5b3d23971>\u001b[0m in \u001b[0;36m<module>\u001b[0;34m()\u001b[0m\n\u001b[1;32m      3\u001b[0m \u001b[0mtrue_class\u001b[0m \u001b[0;34m=\u001b[0m \u001b[0mtrain_Y_class\u001b[0m\u001b[0;34m[\u001b[0m\u001b[0;36m332\u001b[0m\u001b[0;34m:\u001b[0m\u001b[0;36m342\u001b[0m\u001b[0;34m]\u001b[0m\u001b[0;34m\u001b[0m\u001b[0m\n\u001b[1;32m      4\u001b[0m \u001b[0;34m\u001b[0m\u001b[0m\n\u001b[0;32m----> 5\u001b[0;31m \u001b[0mplot_images\u001b[0m\u001b[0;34m(\u001b[0m\u001b[0mimages\u001b[0m\u001b[0;34m=\u001b[0m\u001b[0mimages\u001b[0m\u001b[0;34m,\u001b[0m \u001b[0mtrue_class\u001b[0m\u001b[0;34m=\u001b[0m\u001b[0mtrue_class\u001b[0m\u001b[0;34m)\u001b[0m\u001b[0;34m\u001b[0m\u001b[0m\n\u001b[0m",
      "\u001b[0;32m<ipython-input-17-c29545e49dd4>\u001b[0m in \u001b[0;36mplot_images\u001b[0;34m(images, true_class, pred_class)\u001b[0m\n\u001b[1;32m      5\u001b[0m     \u001b[0;32mfor\u001b[0m \u001b[0mi\u001b[0m\u001b[0;34m,\u001b[0m \u001b[0max\u001b[0m \u001b[0;32min\u001b[0m \u001b[0menumerate\u001b[0m\u001b[0;34m(\u001b[0m\u001b[0maxes\u001b[0m\u001b[0;34m.\u001b[0m\u001b[0mflat\u001b[0m\u001b[0;34m)\u001b[0m\u001b[0;34m:\u001b[0m\u001b[0;34m\u001b[0m\u001b[0m\n\u001b[1;32m      6\u001b[0m \u001b[0;34m\u001b[0m\u001b[0m\n\u001b[0;32m----> 7\u001b[0;31m         \u001b[0max\u001b[0m\u001b[0;34m.\u001b[0m\u001b[0mimshow\u001b[0m\u001b[0;34m(\u001b[0m\u001b[0mimages\u001b[0m\u001b[0;34m[\u001b[0m\u001b[0mi\u001b[0m\u001b[0;34m]\u001b[0m\u001b[0;34m.\u001b[0m\u001b[0mreshape\u001b[0m\u001b[0;34m(\u001b[0m\u001b[0;36m100\u001b[0m\u001b[0;34m,\u001b[0m \u001b[0;36m100\u001b[0m\u001b[0;34m)\u001b[0m\u001b[0;34m,\u001b[0m \u001b[0mcmap\u001b[0m\u001b[0;34m=\u001b[0m\u001b[0;34m'gray'\u001b[0m\u001b[0;34m)\u001b[0m\u001b[0;34m\u001b[0m\u001b[0m\n\u001b[0m\u001b[1;32m      8\u001b[0m \u001b[0;34m\u001b[0m\u001b[0m\n\u001b[1;32m      9\u001b[0m         \u001b[0;32mif\u001b[0m \u001b[0mpred_class\u001b[0m \u001b[0;32mis\u001b[0m \u001b[0;32mNone\u001b[0m\u001b[0;34m:\u001b[0m\u001b[0;34m\u001b[0m\u001b[0m\n",
      "\u001b[0;31mIndexError\u001b[0m: index 0 is out of bounds for axis 0 with size 0"
     ]
    },
    {
     "data": {
      "image/png": "[encoded data removed]",
      "text/plain": [
       "<matplotlib.figure.Figure at 0x7f28991c7710>"
      ]
     },
     "metadata": {},
     "output_type": "display_data"
    }
   ],
   "source": [
    "images = train_X[332:342]\n",
    "\n",
    "true_class = train_Y_class[332:342]\n",
    "\n",
    "plot_images(images=images, true_class=true_class)"
   ]
  },
  {
   "cell_type": "markdown",
   "metadata": {},
   "source": [
    "## Data preprocessing"
   ]
  },
  {
   "cell_type": "code",
   "execution_count": 20,
   "metadata": {},
   "outputs": [],
   "source": [
    "def preprocess_images(X):\n",
    "    X = (X / 255 * 0.99) + 0.01\n",
    "    return np.float32(X).reshape(-1, img_size, img_size, num_channels)\n",
    "\n",
    "def one_hot(nums):\n",
    "    output = np.eye(num_classes)[nums]\n",
    "    return np.squeeze(output)"
   ]
  },
  {
   "cell_type": "code",
   "execution_count": 21,
   "metadata": {},
   "outputs": [
    {
     "name": "stdout",
     "output_type": "stream",
     "text": [
      "Number of train examples: 100\n",
      "Number of test examples: 1019\n",
      "Train images shape: (100, 100, 100, 1)\n",
      "Test images shape: (1019, 100, 100, 1)\n",
      "Train Labels shape: (100, 2)\n",
      "Test Labels shape: (1019, 2)\n"
     ]
    }
   ],
   "source": [
    "train_X = preprocess_images(train_X)\n",
    "test_X = preprocess_images(test_X)\n",
    "\n",
    "train_Y = one_hot(train_Y_class)\n",
    "test_Y = one_hot(test_Y_class)\n",
    "\n",
    "\n",
    "print(f\"Number of train examples: {train_X.shape[0]}\")\n",
    "print(f\"Number of test examples: {test_X.shape[0]}\")\n",
    "print(f\"Train images shape: {train_X.shape}\")\n",
    "print(f\"Test images shape: {test_X.shape}\")\n",
    "print(f\"Train Labels shape: {train_Y.shape}\")\n",
    "print(f\"Test Labels shape: {test_Y.shape}\")"
   ]
  },
  {
   "cell_type": "markdown",
   "metadata": {},
   "source": [
    "# Model"
   ]
  },
  {
   "cell_type": "markdown",
   "metadata": {},
   "source": [
    "## Conv net hyper parameters"
   ]
  },
  {
   "cell_type": "code",
   "execution_count": 22,
   "metadata": {},
   "outputs": [],
   "source": [
    "filter_size1 = 3\n",
    "num_filters1 = 32\n",
    "\n",
    "filter_size2 = 3\n",
    "num_filters2 = 64\n",
    "\n",
    "filter_size3 = 3\n",
    "num_filters3 = 128\n",
    "\n",
    "filter_size4 = 3\n",
    "num_filters4 = 128\n",
    "\n",
    "fc_layer = 256\n",
    "\n",
    "lr=0.001"
   ]
  },
  {
   "cell_type": "markdown",
   "metadata": {},
   "source": [
    "## Conv layer"
   ]
  },
  {
   "cell_type": "code",
   "execution_count": 23,
   "metadata": {},
   "outputs": [],
   "source": [
    "def create_conv_layer(input, num_input_channels, filter_size, num_filters, use_pooling=True):\n",
    "    \n",
    "    filter_shape = [filter_size, filter_size, num_input_channels, num_filters]\n",
    "    \n",
    "    print(filter_shape)\n",
    "    \n",
    "    weights = tf.Variable(tf.truncated_normal(shape=filter_shape))\n",
    "    \n",
    "    biases = tf.Variable(tf.constant(0.05, shape=[num_filters]))\n",
    "    \n",
    "    layer = tf.nn.conv2d(input=input,\n",
    "                        filter=weights,\n",
    "                        strides=[1, 1, 1, 1],\n",
    "                         padding='SAME')\n",
    "    \n",
    "    layer += biases\n",
    "    \n",
    "    if use_pooling:\n",
    "        \n",
    "        layer = tf.nn.max_pool(value=layer,\n",
    "                              ksize=[1, 2, 2, 1],\n",
    "                               strides=[1, 2, 2, 1],\n",
    "                               padding='SAME')\n",
    "        \n",
    "    layer = tf.nn.relu(layer)\n",
    "    \n",
    "    return layer, weights"
   ]
  },
  {
   "cell_type": "markdown",
   "metadata": {},
   "source": [
    "## FC layer"
   ]
  },
  {
   "cell_type": "code",
   "execution_count": 24,
   "metadata": {},
   "outputs": [],
   "source": [
    "def create_fully_connected(input,\n",
    "                          num_inputs,\n",
    "                          num_outputs,\n",
    "                          use_relu=True):\n",
    "    \n",
    "    weights = tf.Variable(tf.truncated_normal(shape=[num_inputs, num_outputs]))\n",
    "    \n",
    "    biases = tf.Variable(tf.constant(0.05, shape=[num_outputs]))\n",
    "    \n",
    "    layer = tf.matmul(input, weights) + biases\n",
    "    \n",
    "    if use_relu:\n",
    "        layer = tf.nn.relu(layer)\n",
    "        \n",
    "    return layer"
   ]
  },
  {
   "cell_type": "markdown",
   "metadata": {},
   "source": [
    "## Flatten conv layer"
   ]
  },
  {
   "cell_type": "code",
   "execution_count": 25,
   "metadata": {},
   "outputs": [],
   "source": [
    "def flatten_layer(layer):\n",
    "    \n",
    "    layer_shape = layer.get_shape()\n",
    "    \n",
    "    num_features = layer_shape[1:4].num_elements()\n",
    "    \n",
    "    layer_flat = tf.reshape(layer, [-1, num_features])\n",
    "    \n",
    "    return layer_flat, num_features"
   ]
  },
  {
   "cell_type": "markdown",
   "metadata": {},
   "source": [
    "## Placeholders"
   ]
  },
  {
   "cell_type": "code",
   "execution_count": 26,
   "metadata": {},
   "outputs": [],
   "source": [
    "x = tf.placeholder(tf.float32, shape=[None, img_size, img_size, num_channels], name='x')\n",
    "y = tf.placeholder(tf.float32, shape=[None, num_classes], name='y')"
   ]
  },
  {
   "cell_type": "markdown",
   "metadata": {},
   "source": [
    "## Conv 1"
   ]
  },
  {
   "cell_type": "code",
   "execution_count": 27,
   "metadata": {},
   "outputs": [
    {
     "name": "stdout",
     "output_type": "stream",
     "text": [
      "[3, 3, 1, 32]\n"
     ]
    }
   ],
   "source": [
    "layer_conv1, weights_conv1 = create_conv_layer(input=x,\n",
    "                                              num_input_channels=num_channels,\n",
    "                                              filter_size=filter_size1,\n",
    "                                              num_filters=num_filters1,\n",
    "                                              use_pooling=True)"
   ]
  },
  {
   "cell_type": "code",
   "execution_count": 28,
   "metadata": {},
   "outputs": [
    {
     "data": {
      "text/plain": [
       "<tf.Tensor 'Relu:0' shape=(?, 50, 50, 32) dtype=float32>"
      ]
     },
     "execution_count": 28,
     "metadata": {},
     "output_type": "execute_result"
    }
   ],
   "source": [
    "layer_conv1"
   ]
  },
  {
   "cell_type": "markdown",
   "metadata": {},
   "source": [
    "## Conv 2"
   ]
  },
  {
   "cell_type": "code",
   "execution_count": 29,
   "metadata": {},
   "outputs": [
    {
     "name": "stdout",
     "output_type": "stream",
     "text": [
      "[3, 3, 32, 64]\n"
     ]
    }
   ],
   "source": [
    "layer_conv2, weights_conv2 = create_conv_layer(input=layer_conv1,\n",
    "                                              num_input_channels=num_filters1,\n",
    "                                              filter_size=filter_size2,\n",
    "                                              num_filters=num_filters2,\n",
    "                                              use_pooling=True)"
   ]
  },
  {
   "cell_type": "code",
   "execution_count": 30,
   "metadata": {},
   "outputs": [
    {
     "data": {
      "text/plain": [
       "<tf.Tensor 'Relu_1:0' shape=(?, 25, 25, 64) dtype=float32>"
      ]
     },
     "execution_count": 30,
     "metadata": {},
     "output_type": "execute_result"
    }
   ],
   "source": [
    "layer_conv2"
   ]
  },
  {
   "cell_type": "markdown",
   "metadata": {},
   "source": [
    "## Conv 3"
   ]
  },
  {
   "cell_type": "code",
   "execution_count": 31,
   "metadata": {},
   "outputs": [
    {
     "name": "stdout",
     "output_type": "stream",
     "text": [
      "[3, 3, 64, 128]\n"
     ]
    }
   ],
   "source": [
    "layer_conv3, weights_conv3 = create_conv_layer(input=layer_conv2,\n",
    "                                              num_input_channels=num_filters2,\n",
    "                                              filter_size=filter_size3,\n",
    "                                              num_filters=num_filters3,\n",
    "                                              use_pooling=True)"
   ]
  },
  {
   "cell_type": "code",
   "execution_count": 32,
   "metadata": {},
   "outputs": [
    {
     "data": {
      "text/plain": [
       "<tf.Tensor 'Relu_2:0' shape=(?, 13, 13, 128) dtype=float32>"
      ]
     },
     "execution_count": 32,
     "metadata": {},
     "output_type": "execute_result"
    }
   ],
   "source": [
    "layer_conv3"
   ]
  },
  {
   "cell_type": "markdown",
   "metadata": {},
   "source": [
    "## Conv 4"
   ]
  },
  {
   "cell_type": "code",
   "execution_count": 33,
   "metadata": {},
   "outputs": [
    {
     "name": "stdout",
     "output_type": "stream",
     "text": [
      "[3, 3, 128, 128]\n"
     ]
    }
   ],
   "source": [
    "layer_conv4, weights_conv4 = create_conv_layer(input=layer_conv3,\n",
    "                                              num_input_channels=num_filters3,\n",
    "                                              filter_size=filter_size4,\n",
    "                                              num_filters=num_filters4,\n",
    "                                              use_pooling=True)"
   ]
  },
  {
   "cell_type": "code",
   "execution_count": 34,
   "metadata": {},
   "outputs": [
    {
     "data": {
      "text/plain": [
       "<tf.Tensor 'Relu_3:0' shape=(?, 7, 7, 128) dtype=float32>"
      ]
     },
     "execution_count": 34,
     "metadata": {},
     "output_type": "execute_result"
    }
   ],
   "source": [
    "layer_conv4"
   ]
  },
  {
   "cell_type": "markdown",
   "metadata": {},
   "source": [
    "## FC1"
   ]
  },
  {
   "cell_type": "code",
   "execution_count": 35,
   "metadata": {},
   "outputs": [
    {
     "name": "stdout",
     "output_type": "stream",
     "text": [
      "Num features: 6272\n"
     ]
    }
   ],
   "source": [
    "layer_flat, num_features = flatten_layer(layer_conv4)\n",
    "print(f\"Num features: {num_features}\")"
   ]
  },
  {
   "cell_type": "code",
   "execution_count": 36,
   "metadata": {},
   "outputs": [],
   "source": [
    "fc_layer1 = create_fully_connected(input=layer_flat,\n",
    "                                  num_inputs=num_features,\n",
    "                                  num_outputs=fc_layer,\n",
    "                                  use_relu=True)"
   ]
  },
  {
   "cell_type": "code",
   "execution_count": 37,
   "metadata": {},
   "outputs": [
    {
     "data": {
      "text/plain": [
       "<tf.Tensor 'Relu_4:0' shape=(?, 256) dtype=float32>"
      ]
     },
     "execution_count": 37,
     "metadata": {},
     "output_type": "execute_result"
    }
   ],
   "source": [
    "fc_layer1"
   ]
  },
  {
   "cell_type": "code",
   "execution_count": 38,
   "metadata": {},
   "outputs": [],
   "source": [
    "fc_layer2 = create_fully_connected(input=fc_layer1,\n",
    "                                  num_inputs=fc_layer,\n",
    "                                  num_outputs=num_classes,\n",
    "                                  use_relu=False)"
   ]
  },
  {
   "cell_type": "code",
   "execution_count": 39,
   "metadata": {},
   "outputs": [
    {
     "data": {
      "text/plain": [
       "<tf.Tensor 'add_5:0' shape=(?, 2) dtype=float32>"
      ]
     },
     "execution_count": 39,
     "metadata": {},
     "output_type": "execute_result"
    }
   ],
   "source": [
    "fc_layer2"
   ]
  },
  {
   "cell_type": "markdown",
   "metadata": {},
   "source": [
    "## Softmax"
   ]
  },
  {
   "cell_type": "code",
   "execution_count": 40,
   "metadata": {},
   "outputs": [],
   "source": [
    "y_pred = tf.nn.softmax(fc_layer2)\n",
    "y_pred_class = tf.argmax(y_pred, axis=1)"
   ]
  },
  {
   "cell_type": "code",
   "execution_count": 41,
   "metadata": {},
   "outputs": [
    {
     "data": {
      "text/plain": [
       "<tf.Tensor 'ArgMax:0' shape=(?,) dtype=int64>"
      ]
     },
     "execution_count": 41,
     "metadata": {},
     "output_type": "execute_result"
    }
   ],
   "source": [
    "y_pred_class"
   ]
  },
  {
   "cell_type": "code",
   "execution_count": 42,
   "metadata": {},
   "outputs": [
    {
     "data": {
      "text/plain": [
       "(100,)"
      ]
     },
     "execution_count": 42,
     "metadata": {},
     "output_type": "execute_result"
    }
   ],
   "source": [
    "train_Y_class.reshape(-1).shape"
   ]
  },
  {
   "cell_type": "markdown",
   "metadata": {},
   "source": [
    "## Cost"
   ]
  },
  {
   "cell_type": "code",
   "execution_count": 43,
   "metadata": {},
   "outputs": [
    {
     "name": "stdout",
     "output_type": "stream",
     "text": [
      "WARNING:tensorflow:From <ipython-input-43-efba420f0942>:1: softmax_cross_entropy_with_logits (from tensorflow.python.ops.nn_ops) is deprecated and will be removed in a future version.\n",
      "Instructions for updating:\n",
      "\n",
      "Future major versions of TensorFlow will allow gradients to flow\n",
      "into the labels input on backprop by default.\n",
      "\n",
      "See tf.nn.softmax_cross_entropy_with_logits_v2.\n",
      "\n"
     ]
    }
   ],
   "source": [
    "cross_entropy = tf.nn.softmax_cross_entropy_with_logits(logits=fc_layer2, labels=y)"
   ]
  },
  {
   "cell_type": "code",
   "execution_count": 44,
   "metadata": {},
   "outputs": [],
   "source": [
    "cost = tf.reduce_mean(cross_entropy)"
   ]
  },
  {
   "cell_type": "markdown",
   "metadata": {},
   "source": [
    "## Optimizer"
   ]
  },
  {
   "cell_type": "code",
   "execution_count": 45,
   "metadata": {},
   "outputs": [],
   "source": [
    "optimizer = tf.train.AdamOptimizer(learning_rate=lr).minimize(cost)"
   ]
  },
  {
   "cell_type": "markdown",
   "metadata": {},
   "source": [
    "## Accuracy"
   ]
  },
  {
   "cell_type": "code",
   "execution_count": 46,
   "metadata": {},
   "outputs": [],
   "source": [
    "correct_predictions = tf.equal(y_pred_class, train_Y_class.reshape(-1))\n",
    "accuracy = tf.reduce_mean(tf.cast(correct_predictions, tf.float32))"
   ]
  },
  {
   "cell_type": "markdown",
   "metadata": {},
   "source": [
    "## Saver"
   ]
  },
  {
   "cell_type": "code",
   "execution_count": 47,
   "metadata": {},
   "outputs": [],
   "source": [
    "saver = tf.train.Saver()"
   ]
  },
  {
   "cell_type": "code",
   "execution_count": 50,
   "metadata": {},
   "outputs": [],
   "source": [
    "save_dir = 'checkpoints/2_papir/'"
   ]
  },
  {
   "cell_type": "markdown",
   "metadata": {},
   "source": [
    "## Running Tensorflow session"
   ]
  },
  {
   "cell_type": "code",
   "execution_count": 51,
   "metadata": {},
   "outputs": [],
   "source": [
    "session = tf.Session()"
   ]
  },
  {
   "cell_type": "code",
   "execution_count": 52,
   "metadata": {},
   "outputs": [],
   "source": [
    "session.run(tf.global_variables_initializer())"
   ]
  },
  {
   "cell_type": "markdown",
   "metadata": {},
   "source": [
    "## Minibatch helper function"
   ]
  },
  {
   "cell_type": "code",
   "execution_count": 53,
   "metadata": {},
   "outputs": [],
   "source": [
    "batch_size = 64"
   ]
  },
  {
   "cell_type": "code",
   "execution_count": 54,
   "metadata": {},
   "outputs": [],
   "source": [
    "def split_into_batches(X, Y):\n",
    "    full_sized = math.floor(X.shape[0] / batch_size)\n",
    "    print(f\"Full sized: {full_sized}\")\n",
    "    batches_X = []\n",
    "    batches_Y = []\n",
    "    \n",
    "    for i in range(full_sized):\n",
    "        batches_X.append(X[i*batch_size:(i+1) * batch_size])\n",
    "        batches_Y.append(Y[i*batch_size:(i+1) * batch_size])\n",
    "        \n",
    "        \n",
    "    last_elems = full_sized * batch_size - X.shape[0]\n",
    "    if last_elems != 0:\n",
    "        print(f\"kasel\")\n",
    "        batches_X.append(X[last_elems:])\n",
    "        batches_Y.append(Y[last_elems:])\n",
    "        \n",
    "    return batches_X, batches_Y\n",
    "    \n",
    "    "
   ]
  },
  {
   "cell_type": "code",
   "execution_count": 55,
   "metadata": {},
   "outputs": [
    {
     "name": "stdout",
     "output_type": "stream",
     "text": [
      "kasel\n",
      "CPU times: user 0 ns, sys: 0 ns, total: 0 ns\n",
      "Wall time: 63.7 µs\n"
     ]
    }
   ],
   "source": [
    "%%time\n",
    "print(\"kasel\")"
   ]
  },
  {
   "cell_type": "code",
   "execution_count": 56,
   "metadata": {},
   "outputs": [],
   "source": [
    "total_epochs = 0\n",
    "def optimize(num_epochs):\n",
    "     \n",
    "    global total_epochs\n",
    "    start_time = time.time()\n",
    "    \n",
    "    for i in range(total_epochs, total_epochs + num_epochs):\n",
    "        \n",
    "        for x_batch, y_batch in zip(X_batches, Y_batches):\n",
    "            \n",
    "            feed_dict_train = {x: x_batch,\n",
    "                              y: y_batch}\n",
    "            \n",
    "#             print(feed_dict_train[x].shape)\n",
    "#             print(feed_dict_train[y].shape)\n",
    "            \n",
    "            session.run(optimizer, feed_dict=feed_dict_train)\n",
    "#             print(\":)\")\n",
    "        \n",
    "        feed_dict_train_acc = {x: train_X, y: train_Y}\n",
    "        acc = session.run(accuracy, feed_dict=feed_dict_train_acc)\n",
    "    \n",
    "        print(f\"Epoch {i}: Train_acc: {str(acc*100)[:5]}%\")\n",
    "        \n",
    "    total_epochs += num_epochs\n",
    "    \n",
    "    end_time = time.time()\n",
    "    \n",
    "    time_dif = end_time - start_time\n",
    "    \n",
    "    print(f\"Time usage: {timedelta(seconds=int(round(time_dif)))}\")"
   ]
  },
  {
   "cell_type": "code",
   "execution_count": 57,
   "metadata": {},
   "outputs": [],
   "source": [
    "def print_accuracy(X, Y):\n",
    "    feed_dict_test = {x: X,\n",
    "                     y: Y}\n",
    "    \n",
    "#     print(feed_dict_test[x].shape)\n",
    "#     print(feed_dict_test[y].shape)\n",
    "    \n",
    "    pred_class = session.run(y_pred_class, feed_dict=feed_dict_test)\n",
    "    \n",
    "#     print(pred_class.shape)\n",
    "    \n",
    "    true_class = np.argmax(Y, axis=1)\n",
    "#     print(str(pred_class.shape) + \"||\" + str(true_class.shape))\n",
    "    pred_class = np.array(pred_class)\n",
    "    correct = (pred_class == true_class)\n",
    "    \n",
    "#     print(correct)\n",
    "    correct_sum = correct.sum()\n",
    "    \n",
    "    acc = float(correct_sum) / len(correct)\n",
    "    \n",
    "    return acc\n",
    "    print(f\"Test accuracy: {str(acc * 100)[:5]}%\")"
   ]
  },
  {
   "cell_type": "markdown",
   "metadata": {},
   "source": [
    "# Training"
   ]
  },
  {
   "cell_type": "code",
   "execution_count": 58,
   "metadata": {},
   "outputs": [
    {
     "name": "stdout",
     "output_type": "stream",
     "text": [
      "Full sized: 1\n",
      "kasel\n"
     ]
    }
   ],
   "source": [
    "X_batches, Y_batches = split_into_batches(train_X, train_Y)"
   ]
  },
  {
   "cell_type": "code",
   "execution_count": 59,
   "metadata": {},
   "outputs": [
    {
     "name": "stdout",
     "output_type": "stream",
     "text": [
      "(1019, 100, 100, 1)\n"
     ]
    }
   ],
   "source": [
    "print(test_X.shape)"
   ]
  },
  {
   "cell_type": "code",
   "execution_count": 60,
   "metadata": {},
   "outputs": [
    {
     "name": "stdout",
     "output_type": "stream",
     "text": [
      "Test accuracy: 48.08%\n",
      "Train accuracy: 50.0%\n"
     ]
    }
   ],
   "source": [
    "print(f\"Test accuracy: {str(print_accuracy(test_X, test_Y) * 100)[:5]}%\")\n",
    "print(f\"Train accuracy: {str(print_accuracy(train_X, train_Y) * 100)[:5]}%\")"
   ]
  },
  {
   "cell_type": "code",
   "execution_count": 61,
   "metadata": {},
   "outputs": [
    {
     "name": "stdout",
     "output_type": "stream",
     "text": [
      "Epoch 0: Train_acc: 50.0%\n",
      "Time usage: 0:00:00\n"
     ]
    }
   ],
   "source": [
    "optimize(num_epochs=1)"
   ]
  },
  {
   "cell_type": "code",
   "execution_count": 62,
   "metadata": {},
   "outputs": [
    {
     "name": "stdout",
     "output_type": "stream",
     "text": [
      "Test accuracy: 52.69%\n",
      "Train accuracy: 50.0%\n"
     ]
    }
   ],
   "source": [
    "print(f\"Test accuracy: {str(print_accuracy(test_X, test_Y) * 100)[:5]}%\")\n",
    "print(f\"Train accuracy: {str(print_accuracy(train_X, train_Y) * 100)[:5]}%\")"
   ]
  },
  {
   "cell_type": "code",
   "execution_count": 63,
   "metadata": {},
   "outputs": [
    {
     "name": "stdout",
     "output_type": "stream",
     "text": [
      "Epoch 1: Train_acc: 58.99%\n",
      "Epoch 2: Train_acc: 97.00%\n",
      "Epoch 3: Train_acc: 50.0%\n",
      "Epoch 4: Train_acc: 61.00%\n",
      "Epoch 5: Train_acc: 100.0%\n",
      "Time usage: 0:00:00\n"
     ]
    }
   ],
   "source": [
    "optimize(num_epochs=5)"
   ]
  },
  {
   "cell_type": "code",
   "execution_count": 50,
   "metadata": {},
   "outputs": [],
   "source": [
    "# saver.save(sess=session, save_path=save_dir)"
   ]
  },
  {
   "cell_type": "code",
   "execution_count": 64,
   "metadata": {},
   "outputs": [
    {
     "name": "stdout",
     "output_type": "stream",
     "text": [
      "Test accuracy: 36.60%\n",
      "Train accuracy: 100.0%\n"
     ]
    }
   ],
   "source": [
    "print(f\"Test accuracy: {str(print_accuracy(test_X, test_Y) * 100)[:5]}%\")\n",
    "print(f\"Train accuracy: {str(print_accuracy(train_X, train_Y) * 100)[:5]}%\")"
   ]
  },
  {
   "cell_type": "code",
   "execution_count": 52,
   "metadata": {},
   "outputs": [
    {
     "name": "stdout",
     "output_type": "stream",
     "text": [
      "Epoch 6: Train_acc: 95.73%\n",
      "Epoch 7: Train_acc: 96.99%\n",
      "Epoch 8: Train_acc: 97.47%\n",
      "Epoch 9: Train_acc: 97.78%\n",
      "Epoch 10: Train_acc: 98.26%\n",
      "Time usage: 0:01:43\n"
     ]
    }
   ],
   "source": [
    "optimize(num_epochs=5)"
   ]
  },
  {
   "cell_type": "code",
   "execution_count": 53,
   "metadata": {},
   "outputs": [
    {
     "name": "stdout",
     "output_type": "stream",
     "text": [
      "Test accuracy: 91.0%\n",
      "Train accuracy: 98.26%\n"
     ]
    }
   ],
   "source": [
    "print(f\"Test accuracy: {str(print_accuracy(test_X, test_Y) * 100)[:5]}%\")\n",
    "print(f\"Train accuracy: {str(print_accuracy(train_X, train_Y) * 100)[:5]}%\")"
   ]
  },
  {
   "cell_type": "code",
   "execution_count": 54,
   "metadata": {},
   "outputs": [
    {
     "name": "stdout",
     "output_type": "stream",
     "text": [
      "Epoch 11: Train_acc: 98.73%\n",
      "Epoch 12: Train_acc: 98.89%\n",
      "Epoch 13: Train_acc: 98.57%\n",
      "Epoch 14: Train_acc: 98.89%\n",
      "Epoch 15: Train_acc: 98.57%\n",
      "Time usage: 0:01:43\n"
     ]
    }
   ],
   "source": [
    "optimize(num_epochs=5)"
   ]
  },
  {
   "cell_type": "code",
   "execution_count": 55,
   "metadata": {},
   "outputs": [
    {
     "name": "stdout",
     "output_type": "stream",
     "text": [
      "Test accuracy: 89.0%\n",
      "Train accuracy: 98.57%\n"
     ]
    }
   ],
   "source": [
    "print(f\"Test accuracy: {str(print_accuracy(test_X, test_Y) * 100)[:5]}%\")\n",
    "print(f\"Train accuracy: {str(print_accuracy(train_X, train_Y) * 100)[:5]}%\")"
   ]
  },
  {
   "cell_type": "code",
   "execution_count": 56,
   "metadata": {},
   "outputs": [
    {
     "name": "stdout",
     "output_type": "stream",
     "text": [
      "Epoch 16: Train_acc: 99.05%\n",
      "Epoch 17: Train_acc: 98.57%\n",
      "Epoch 18: Train_acc: 98.57%\n",
      "Epoch 19: Train_acc: 98.57%\n",
      "Epoch 20: Train_acc: 99.21%\n",
      "Epoch 21: Train_acc: 98.89%\n",
      "Epoch 22: Train_acc: 99.21%\n",
      "Epoch 23: Train_acc: 98.10%\n",
      "Epoch 24: Train_acc: 97.15%\n",
      "Epoch 25: Train_acc: 98.42%\n",
      "Time usage: 0:03:25\n"
     ]
    }
   ],
   "source": [
    "optimize(num_epochs=10)"
   ]
  },
  {
   "cell_type": "code",
   "execution_count": 57,
   "metadata": {},
   "outputs": [
    {
     "name": "stdout",
     "output_type": "stream",
     "text": [
      "Test accuracy: 94.0%\n",
      "Train accuracy: 98.42%\n"
     ]
    }
   ],
   "source": [
    "print(f\"Test accuracy: {str(print_accuracy(test_X, test_Y) * 100)[:5]}%\")\n",
    "print(f\"Train accuracy: {str(print_accuracy(train_X, train_Y) * 100)[:5]}%\")"
   ]
  },
  {
   "cell_type": "code",
   "execution_count": 58,
   "metadata": {},
   "outputs": [
    {
     "name": "stdout",
     "output_type": "stream",
     "text": [
      "Epoch 26: Train_acc: 98.89%\n",
      "Epoch 27: Train_acc: 98.57%\n",
      "Epoch 28: Train_acc: 99.21%\n",
      "Epoch 29: Train_acc: 99.52%\n",
      "Epoch 30: Train_acc: 98.26%\n",
      "Epoch 31: Train_acc: 97.31%\n",
      "Epoch 32: Train_acc: 99.36%\n",
      "Epoch 33: Train_acc: 97.15%\n",
      "Epoch 34: Train_acc: 87.36%\n",
      "Epoch 35: Train_acc: 74.56%\n",
      "Time usage: 0:03:26\n"
     ]
    }
   ],
   "source": [
    "optimize(num_epochs=10)"
   ]
  },
  {
   "cell_type": "code",
   "execution_count": 59,
   "metadata": {},
   "outputs": [
    {
     "name": "stdout",
     "output_type": "stream",
     "text": [
      "Test accuracy: 61.0%\n",
      "Train accuracy: 74.56%\n"
     ]
    }
   ],
   "source": [
    "print(f\"Test accuracy: {str(print_accuracy(test_X, test_Y) * 100)[:5]}%\")\n",
    "print(f\"Train accuracy: {str(print_accuracy(train_X, train_Y) * 100)[:5]}%\")"
   ]
  },
  {
   "cell_type": "code",
   "execution_count": 60,
   "metadata": {},
   "outputs": [
    {
     "name": "stdout",
     "output_type": "stream",
     "text": [
      "Epoch 36: Train_acc: 53.39%\n",
      "Epoch 37: Train_acc: 58.13%\n",
      "Epoch 38: Train_acc: 94.78%\n",
      "Epoch 39: Train_acc: 91.94%\n",
      "Epoch 40: Train_acc: 95.73%\n",
      "Epoch 41: Train_acc: 99.05%\n",
      "Epoch 42: Train_acc: 98.89%\n",
      "Epoch 43: Train_acc: 98.26%\n",
      "Epoch 44: Train_acc: 99.36%\n",
      "Epoch 45: Train_acc: 99.36%\n",
      "Time usage: 0:03:25\n"
     ]
    }
   ],
   "source": [
    "optimize(num_epochs=10)"
   ]
  },
  {
   "cell_type": "code",
   "execution_count": 61,
   "metadata": {},
   "outputs": [
    {
     "name": "stdout",
     "output_type": "stream",
     "text": [
      "Test accuracy: 98.0%\n",
      "Train accuracy: 99.36%\n"
     ]
    }
   ],
   "source": [
    "print(f\"Test accuracy: {str(print_accuracy(test_X, test_Y) * 100)[:5]}%\")\n",
    "print(f\"Train accuracy: {str(print_accuracy(train_X, train_Y) * 100)[:5]}%\")"
   ]
  },
  {
   "cell_type": "code",
   "execution_count": 68,
   "metadata": {},
   "outputs": [
    {
     "data": {
      "image/png": "[encoded data removed]",
      "text/plain": [
       "<matplotlib.figure.Figure at 0x7fae72f435c0>"
      ]
     },
     "metadata": {},
     "output_type": "display_data"
    }
   ],
   "source": [
    "index = 45\n",
    "\n",
    "\n",
    "images = test_X[index:index+10]\n",
    "\n",
    "true_class = test_Y_class[index:index+10]\n",
    "\n",
    "feed_dict_test = {x: test_X, y: test_Y}\n",
    "\n",
    "preds = session.run(y_pred_class, feed_dict=feed_dict_test)[index:index+10]\n",
    "\n",
    "# preds = session.run(y_pred_class, feed_dict=feed_dict_test)\n",
    "# print(preds.shape)\n",
    "\n",
    "\n",
    "plot_images(images=images, true_class=true_class, pred_class=preds)"
   ]
  },
  {
   "cell_type": "code",
   "execution_count": 63,
   "metadata": {},
   "outputs": [
    {
     "data": {
      "text/plain": [
       "'checkpoints/'"
      ]
     },
     "execution_count": 63,
     "metadata": {},
     "output_type": "execute_result"
    }
   ],
   "source": [
    "saver.save(sess=session, save_path=save_dir)"
   ]
  },
  {
   "cell_type": "code",
   "execution_count": 64,
   "metadata": {
    "collapsed": true
   },
   "outputs": [],
   "source": [
    "session.run(tf.global_variables_initializer())"
   ]
  },
  {
   "cell_type": "code",
   "execution_count": 65,
   "metadata": {},
   "outputs": [
    {
     "name": "stdout",
     "output_type": "stream",
     "text": [
      "Test accuracy: 50.0%\n",
      "Train accuracy: 53.23%\n"
     ]
    }
   ],
   "source": [
    "print(f\"Test accuracy: {str(print_accuracy(test_X, test_Y) * 100)[:5]}%\")\n",
    "print(f\"Train accuracy: {str(print_accuracy(train_X, train_Y) * 100)[:5]}%\")"
   ]
  },
  {
   "cell_type": "code",
   "execution_count": 66,
   "metadata": {},
   "outputs": [
    {
     "name": "stdout",
     "output_type": "stream",
     "text": [
      "INFO:tensorflow:Restoring parameters from checkpoints/\n"
     ]
    }
   ],
   "source": [
    "saver.restore(sess=session, save_path=save_dir)"
   ]
  },
  {
   "cell_type": "code",
   "execution_count": 67,
   "metadata": {},
   "outputs": [
    {
     "name": "stdout",
     "output_type": "stream",
     "text": [
      "Test accuracy: 98.0%\n",
      "Train accuracy: 99.36%\n"
     ]
    }
   ],
   "source": [
    "print(f\"Test accuracy: {str(print_accuracy(test_X, test_Y) * 100)[:5]}%\")\n",
    "print(f\"Train accuracy: {str(print_accuracy(train_X, train_Y) * 100)[:5]}%\")"
   ]
  },
  {
   "cell_type": "code",
   "execution_count": null,
   "metadata": {
    "collapsed": true
   },
   "outputs": [],
   "source": []
  }
 ],
 "metadata": {
  "kernelspec": {
   "display_name": "Python 3",
   "language": "python",
   "name": "python3"
  },
  "language_info": {
   "codemirror_mode": {
    "name": "ipython",
    "version": 3
   },
   "file_extension": ".py",
   "mimetype": "text/x-python",
   "name": "python",
   "nbconvert_exporter": "python",
   "pygments_lexer": "ipython3",
   "version": "3.6.4"
  }
 },
 "nbformat": 4,
 "nbformat_minor": 2
}

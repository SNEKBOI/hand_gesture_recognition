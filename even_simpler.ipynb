{
 "cells": [
  {
   "cell_type": "code",
   "execution_count": 1,
   "metadata": {
    "collapsed": true
   },
   "outputs": [],
   "source": [
    "import os\n",
    "import numpy as np\n",
    "import matplotlib.pyplot as plt\n",
    "import tensorflow as tf\n",
    "import math\n",
    "import time\n",
    "from datetime import timedelta\n",
    "from scipy import misc\n",
    "import imageio\n",
    "%matplotlib inline"
   ]
  },
  {
   "cell_type": "markdown",
   "metadata": {},
   "source": [
    "# Load data"
   ]
  },
  {
   "cell_type": "code",
   "execution_count": 2,
   "metadata": {
    "collapsed": true
   },
   "outputs": [],
   "source": [
    "def load_data(PATH):\n",
    "    \n",
    "    def load_images(filenames):\n",
    "        images = np.array([imageio.imread(filename) for filename in filenames])\n",
    "        # print(images.shape)\n",
    "        return images \n",
    "\n",
    "    default_dir = os.getcwd()\n",
    "    os.chdir(PATH)\n",
    "\n",
    "    main_dir = os.getcwd()\n",
    "\n",
    "    sets = os.listdir()\n",
    "    \n",
    "    os.chdir(sets[0])\n",
    "\n",
    "    classes = os.listdir()\n",
    "\n",
    "    train_dir = os.getcwd()\n",
    "   \n",
    "\n",
    "\n",
    "    train_X = [] \n",
    "    train_Y = [] \n",
    "\n",
    "     \n",
    "    for i in range(len(classes)):\n",
    "        os.chdir(classes[i])\n",
    "        filenames = os.listdir()\n",
    "        \n",
    "        \n",
    "        train_X.append(load_images(filenames)) \n",
    "        train_Y.append(np.full((train_X[-1].shape[0], 1), i))\n",
    "        os.chdir(train_dir)\n",
    "        \n",
    "    os.chdir(main_dir)\n",
    "    os.chdir(sets[1]) \n",
    "    test_dir = os.getcwd()\n",
    "\n",
    "    test_X = []\n",
    "    test_Y = []\n",
    "\n",
    "    for i in range(len(classes)):\n",
    "        os.chdir(classes[i])\n",
    "        filenames = os.listdir()        \n",
    "        test_X.append(load_images(filenames)) \n",
    "        test_Y.append(np.full((test_X[-1].shape[0], 1), i))\n",
    "        os.chdir(test_dir)\n",
    "    \n",
    "   # print(train_X))\n",
    "    train_X = np.concatenate((train_X[0], train_X[1]), axis=0)\n",
    "    train_Y = np.concatenate((train_Y), axis=0)\n",
    "    \n",
    "\n",
    "    test_X = np.concatenate((test_X[0], test_X[1]), axis=0)\n",
    "    test_Y = np.concatenate((test_Y), axis=0)\n",
    "\n",
    "    index = 43\n",
    "    plt.imshow(test_X[index], cmap='gray')\n",
    "    plt.title(test_Y[index])\n",
    "    plt.show()\n",
    "\n",
    "    os.chdir(default_dir)\n",
    "    \n",
    "    return train_X, train_Y, test_X, test_Y \n"
   ]
  },
  {
   "cell_type": "code",
   "execution_count": 6,
   "metadata": {
    "collapsed": true
   },
   "outputs": [],
   "source": [
    "PATH = 'data2/'"
   ]
  },
  {
   "cell_type": "code",
   "execution_count": 7,
   "metadata": {},
   "outputs": [
    {
     "data": {
      "image/png": "[encoded data removed]",
      "text/plain": [
       "<matplotlib.figure.Figure at 0x7fcb5b5297b8>"
      ]
     },
     "metadata": {},
     "output_type": "display_data"
    }
   ],
   "source": [
    "train_X, train_Y_class, test_X, test_Y_class = load_data(PATH)"
   ]
  },
  {
   "cell_type": "code",
   "execution_count": 8,
   "metadata": {
    "collapsed": true
   },
   "outputs": [],
   "source": [
    "img_size = 64\n",
    "\n",
    "img_size_flat = img_size * img_size\n",
    "\n",
    "img_shape = (img_size, img_size)\n",
    "\n",
    "num_channels = 1\n",
    "\n",
    "num_classes = 2"
   ]
  },
  {
   "cell_type": "code",
   "execution_count": 9,
   "metadata": {
    "collapsed": true
   },
   "outputs": [],
   "source": [
    "def plot_images(images, true_class, pred_class=None):\n",
    "    fig, axes = plt.subplots(3, 3)\n",
    "    fig.subplots_adjust(hspace=0.3, wspace=0.3)\n",
    "    \n",
    "    for i, ax in enumerate(axes.flat):\n",
    "        \n",
    "        ax.imshow(images[i].reshape(img_size, img_size), cmap='gray')\n",
    "        \n",
    "        if pred_class is None:\n",
    "            xlabel = f\"True: {true_class[i]}\"\n",
    "        else:\n",
    "            xlabel = f\"True: {true_class[i]}, Pred: {pred_class[i]}\"\n",
    "        \n",
    "        ax.set_xlabel(xlabel)\n",
    "        \n",
    "        ax.set_xticks([])\n",
    "        ax.set_yticks([])\n",
    "        \n",
    "    plt.show()    "
   ]
  },
  {
   "cell_type": "code",
   "execution_count": 10,
   "metadata": {},
   "outputs": [
    {
     "data": {
      "image/png": "[encoded data removed]",
      "text/plain": [
       "<matplotlib.figure.Figure at 0x7fcb5b40ca20>"
      ]
     },
     "metadata": {},
     "output_type": "display_data"
    }
   ],
   "source": [
    "index = 1255\n",
    "\n",
    "images = train_X[index:index+10]\n",
    "\n",
    "true_class = train_Y_class[index:index+10]\n",
    "\n",
    "plot_images(images=images, true_class=true_class)"
   ]
  },
  {
   "cell_type": "markdown",
   "metadata": {},
   "source": [
    "## Data preprocessing"
   ]
  },
  {
   "cell_type": "code",
   "execution_count": 11,
   "metadata": {
    "collapsed": true
   },
   "outputs": [],
   "source": [
    "def preprocess_images(X):\n",
    "    X = (X / 255 * 0.99) + 0.01\n",
    "    return np.float32(X).reshape(-1, img_size, img_size, num_channels)\n",
    "\n",
    "def one_hot(nums):\n",
    "    output = np.eye(num_classes)[nums]\n",
    "    return np.squeeze(output)"
   ]
  },
  {
   "cell_type": "code",
   "execution_count": 12,
   "metadata": {},
   "outputs": [
    {
     "name": "stdout",
     "output_type": "stream",
     "text": [
      "Number of train examples: 2143\n",
      "Number of test examples: 200\n",
      "Train images shape: (2143, 64, 64, 1)\n",
      "Test images shape: (200, 64, 64, 1)\n",
      "Train Labels shape: (2143, 2)\n",
      "Test Labels shape: (200, 2)\n"
     ]
    }
   ],
   "source": [
    "train_X = preprocess_images(train_X)\n",
    "test_X = preprocess_images(test_X)\n",
    "\n",
    "train_Y = one_hot(train_Y_class)\n",
    "test_Y = one_hot(test_Y_class)\n",
    "\n",
    "\n",
    "print(f\"Number of train examples: {train_X.shape[0]}\")\n",
    "print(f\"Number of test examples: {test_X.shape[0]}\")\n",
    "print(f\"Train images shape: {train_X.shape}\")\n",
    "print(f\"Test images shape: {test_X.shape}\")\n",
    "print(f\"Train Labels shape: {train_Y.shape}\")\n",
    "print(f\"Test Labels shape: {test_Y.shape}\")"
   ]
  },
  {
   "cell_type": "markdown",
   "metadata": {},
   "source": [
    "# Model"
   ]
  },
  {
   "cell_type": "markdown",
   "metadata": {},
   "source": [
    "## Conv net hyper parameters"
   ]
  },
  {
   "cell_type": "code",
   "execution_count": 18,
   "metadata": {
    "collapsed": true
   },
   "outputs": [],
   "source": [
    "filter_size1 = 3\n",
    "num_filters1 = 8\n",
    "\n",
    "filter_size2 = 3\n",
    "num_filters2 = 16\n",
    "\n",
    "# filter_size3 = 3\n",
    "# num_filters3 = 128\n",
    "\n",
    "# filter_size4 = 3\n",
    "# num_filters4 = 128\n",
    "\n",
    "fc_layer = 128\n",
    "\n",
    "lr=0.001"
   ]
  },
  {
   "cell_type": "markdown",
   "metadata": {},
   "source": [
    "## Conv layer"
   ]
  },
  {
   "cell_type": "code",
   "execution_count": 19,
   "metadata": {
    "collapsed": true
   },
   "outputs": [],
   "source": [
    "def create_conv_layer(input, num_input_channels, filter_size, num_filters, use_pooling=True):\n",
    "    \n",
    "    filter_shape = [filter_size, filter_size, num_input_channels, num_filters]\n",
    "    \n",
    "    print(filter_shape)\n",
    "    \n",
    "    weights = tf.Variable(tf.truncated_normal(shape=filter_shape))\n",
    "    \n",
    "    biases = tf.Variable(tf.constant(0.05, shape=[num_filters]))\n",
    "    \n",
    "    layer = tf.nn.conv2d(input=input,\n",
    "                        filter=weights,\n",
    "                        strides=[1, 1, 1, 1],\n",
    "                         padding='SAME')\n",
    "    \n",
    "    layer += biases\n",
    "    \n",
    "    if use_pooling:\n",
    "        \n",
    "        layer = tf.nn.max_pool(value=layer,\n",
    "                              ksize=[1, 2, 2, 1],\n",
    "                               strides=[1, 2, 2, 1],\n",
    "                               padding='SAME')\n",
    "        \n",
    "    layer = tf.nn.relu(layer)\n",
    "    \n",
    "    return layer, weights"
   ]
  },
  {
   "cell_type": "markdown",
   "metadata": {},
   "source": [
    "## FC layer"
   ]
  },
  {
   "cell_type": "code",
   "execution_count": 20,
   "metadata": {
    "collapsed": true
   },
   "outputs": [],
   "source": [
    "def create_fully_connected(input,\n",
    "                          num_inputs,\n",
    "                          num_outputs,\n",
    "                          use_relu=True):\n",
    "    \n",
    "    weights = tf.Variable(tf.truncated_normal(shape=[num_inputs, num_outputs]))\n",
    "    \n",
    "    biases = tf.Variable(tf.constant(0.05, shape=[num_outputs]))\n",
    "    \n",
    "    layer = tf.matmul(input, weights) + biases\n",
    "    \n",
    "    if use_relu:\n",
    "        layer = tf.nn.relu(layer)\n",
    "        \n",
    "    return layer"
   ]
  },
  {
   "cell_type": "markdown",
   "metadata": {},
   "source": [
    "## Flatten conv layer"
   ]
  },
  {
   "cell_type": "code",
   "execution_count": 21,
   "metadata": {
    "collapsed": true
   },
   "outputs": [],
   "source": [
    "def flatten_layer(layer):\n",
    "    \n",
    "    layer_shape = layer.get_shape()\n",
    "    \n",
    "    num_features = layer_shape[1:4].num_elements()\n",
    "    \n",
    "    layer_flat = tf.reshape(layer, [-1, num_features])\n",
    "    \n",
    "    return layer_flat, num_features"
   ]
  },
  {
   "cell_type": "markdown",
   "metadata": {},
   "source": [
    "## Placeholders"
   ]
  },
  {
   "cell_type": "code",
   "execution_count": 22,
   "metadata": {
    "collapsed": true
   },
   "outputs": [],
   "source": [
    "x = tf.placeholder(tf.float32, shape=[None, img_size, img_size, num_channels], name='x')\n",
    "y = tf.placeholder(tf.float32, shape=[None, num_classes], name='y')"
   ]
  },
  {
   "cell_type": "markdown",
   "metadata": {},
   "source": [
    "## Conv 1"
   ]
  },
  {
   "cell_type": "code",
   "execution_count": 23,
   "metadata": {},
   "outputs": [
    {
     "name": "stdout",
     "output_type": "stream",
     "text": [
      "[3, 3, 1, 8]\n"
     ]
    }
   ],
   "source": [
    "layer_conv1, weights_conv1 = create_conv_layer(input=x,\n",
    "                                              num_input_channels=num_channels,\n",
    "                                              filter_size=filter_size1,\n",
    "                                              num_filters=num_filters1,\n",
    "                                              use_pooling=True)"
   ]
  },
  {
   "cell_type": "code",
   "execution_count": 24,
   "metadata": {},
   "outputs": [
    {
     "data": {
      "text/plain": [
       "<tf.Tensor 'Relu:0' shape=(?, 32, 32, 8) dtype=float32>"
      ]
     },
     "execution_count": 24,
     "metadata": {},
     "output_type": "execute_result"
    }
   ],
   "source": [
    "layer_conv1"
   ]
  },
  {
   "cell_type": "markdown",
   "metadata": {},
   "source": [
    "## Conv 2"
   ]
  },
  {
   "cell_type": "code",
   "execution_count": 17,
   "metadata": {},
   "outputs": [
    {
     "name": "stdout",
     "output_type": "stream",
     "text": [
      "[3, 3, 8, 16]\n"
     ]
    }
   ],
   "source": [
    "# layer_conv2, weights_conv2 = create_conv_layer(input=layer_conv1,\n",
    "#                                               num_input_channels=num_filters1,\n",
    "#                                               filter_size=filter_size2,\n",
    "#                                               num_filters=num_filters2,\n",
    "#                                               use_pooling=True)"
   ]
  },
  {
   "cell_type": "code",
   "execution_count": 25,
   "metadata": {},
   "outputs": [],
   "source": [
    "# layer_conv2"
   ]
  },
  {
   "cell_type": "markdown",
   "metadata": {},
   "source": [
    "## Conv 3"
   ]
  },
  {
   "cell_type": "code",
   "execution_count": 26,
   "metadata": {
    "collapsed": true
   },
   "outputs": [],
   "source": [
    "# layer_conv3, weights_conv3 = create_conv_layer(input=layer_conv2,\n",
    "#                                               num_input_channels=num_filters2,\n",
    "#                                               filter_size=filter_size3,\n",
    "#                                               num_filters=num_filters3,\n",
    "#                                               use_pooling=True)"
   ]
  },
  {
   "cell_type": "code",
   "execution_count": 27,
   "metadata": {
    "collapsed": true
   },
   "outputs": [],
   "source": [
    "# layer_conv3"
   ]
  },
  {
   "cell_type": "markdown",
   "metadata": {},
   "source": [
    "## Conv 4"
   ]
  },
  {
   "cell_type": "code",
   "execution_count": 28,
   "metadata": {
    "collapsed": true
   },
   "outputs": [],
   "source": [
    "# layer_conv4, weights_conv4 = create_conv_layer(input=layer_conv3,\n",
    "#                                               num_input_channels=num_filters3,\n",
    "#                                               filter_size=filter_size4,\n",
    "#                                               num_filters=num_filters4,\n",
    "#                                               use_pooling=True)"
   ]
  },
  {
   "cell_type": "code",
   "execution_count": 29,
   "metadata": {
    "collapsed": true
   },
   "outputs": [],
   "source": [
    "# layer_conv4"
   ]
  },
  {
   "cell_type": "markdown",
   "metadata": {},
   "source": [
    "## FC1"
   ]
  },
  {
   "cell_type": "code",
   "execution_count": 31,
   "metadata": {},
   "outputs": [
    {
     "name": "stdout",
     "output_type": "stream",
     "text": [
      "Num features: 8192\n"
     ]
    }
   ],
   "source": [
    "layer_flat, num_features = flatten_layer(layer_conv1)\n",
    "print(f\"Num features: {num_features}\")"
   ]
  },
  {
   "cell_type": "code",
   "execution_count": 32,
   "metadata": {
    "collapsed": true
   },
   "outputs": [],
   "source": [
    "fc_layer1 = create_fully_connected(input=layer_flat,\n",
    "                                  num_inputs=num_features,\n",
    "                                  num_outputs=fc_layer,\n",
    "                                  use_relu=True)"
   ]
  },
  {
   "cell_type": "code",
   "execution_count": 33,
   "metadata": {},
   "outputs": [
    {
     "data": {
      "text/plain": [
       "<tf.Tensor 'Relu_1:0' shape=(?, 128) dtype=float32>"
      ]
     },
     "execution_count": 33,
     "metadata": {},
     "output_type": "execute_result"
    }
   ],
   "source": [
    "fc_layer1"
   ]
  },
  {
   "cell_type": "code",
   "execution_count": 34,
   "metadata": {
    "collapsed": true
   },
   "outputs": [],
   "source": [
    "fc_layer2 = create_fully_connected(input=fc_layer1,\n",
    "                                  num_inputs=fc_layer,\n",
    "                                  num_outputs=num_classes,\n",
    "                                  use_relu=False)"
   ]
  },
  {
   "cell_type": "code",
   "execution_count": 35,
   "metadata": {},
   "outputs": [
    {
     "data": {
      "text/plain": [
       "<tf.Tensor 'add_2:0' shape=(?, 2) dtype=float32>"
      ]
     },
     "execution_count": 35,
     "metadata": {},
     "output_type": "execute_result"
    }
   ],
   "source": [
    "fc_layer2"
   ]
  },
  {
   "cell_type": "markdown",
   "metadata": {},
   "source": [
    "## Softmax"
   ]
  },
  {
   "cell_type": "code",
   "execution_count": 36,
   "metadata": {
    "collapsed": true
   },
   "outputs": [],
   "source": [
    "y_pred = tf.nn.softmax(fc_layer2)\n",
    "y_pred_class = tf.argmax(y_pred, axis=1)"
   ]
  },
  {
   "cell_type": "code",
   "execution_count": 37,
   "metadata": {},
   "outputs": [
    {
     "data": {
      "text/plain": [
       "<tf.Tensor 'ArgMax:0' shape=(?,) dtype=int64>"
      ]
     },
     "execution_count": 37,
     "metadata": {},
     "output_type": "execute_result"
    }
   ],
   "source": [
    "y_pred_class"
   ]
  },
  {
   "cell_type": "code",
   "execution_count": 38,
   "metadata": {},
   "outputs": [
    {
     "data": {
      "text/plain": [
       "(2143,)"
      ]
     },
     "execution_count": 38,
     "metadata": {},
     "output_type": "execute_result"
    }
   ],
   "source": [
    "train_Y_class.reshape(-1).shape"
   ]
  },
  {
   "cell_type": "markdown",
   "metadata": {},
   "source": [
    "## Cost"
   ]
  },
  {
   "cell_type": "code",
   "execution_count": 39,
   "metadata": {
    "collapsed": true
   },
   "outputs": [],
   "source": [
    "cross_entropy = tf.nn.softmax_cross_entropy_with_logits_v2(logits=fc_layer2, labels=y)"
   ]
  },
  {
   "cell_type": "code",
   "execution_count": 40,
   "metadata": {
    "collapsed": true
   },
   "outputs": [],
   "source": [
    "cost = tf.reduce_mean(cross_entropy)"
   ]
  },
  {
   "cell_type": "markdown",
   "metadata": {},
   "source": [
    "## Optimizer"
   ]
  },
  {
   "cell_type": "code",
   "execution_count": 41,
   "metadata": {
    "collapsed": true
   },
   "outputs": [],
   "source": [
    "optimizer = tf.train.AdamOptimizer(learning_rate=lr).minimize(cost)"
   ]
  },
  {
   "cell_type": "markdown",
   "metadata": {},
   "source": [
    "## Accuracy"
   ]
  },
  {
   "cell_type": "code",
   "execution_count": 42,
   "metadata": {
    "collapsed": true
   },
   "outputs": [],
   "source": [
    "correct_predictions = tf.equal(y_pred_class, train_Y_class.reshape(-1))\n",
    "accuracy = tf.reduce_mean(tf.cast(correct_predictions, tf.float32))"
   ]
  },
  {
   "cell_type": "markdown",
   "metadata": {},
   "source": [
    "## Saver"
   ]
  },
  {
   "cell_type": "code",
   "execution_count": 66,
   "metadata": {
    "collapsed": true
   },
   "outputs": [],
   "source": [
    "saver = tf.train.Saver()"
   ]
  },
  {
   "cell_type": "code",
   "execution_count": 67,
   "metadata": {
    "collapsed": true
   },
   "outputs": [],
   "source": [
    "save_dir = 'checkpoints/3_simpler/'"
   ]
  },
  {
   "cell_type": "markdown",
   "metadata": {},
   "source": [
    "## Running Tensorflow session"
   ]
  },
  {
   "cell_type": "code",
   "execution_count": 43,
   "metadata": {
    "collapsed": true
   },
   "outputs": [],
   "source": [
    "session = tf.Session()"
   ]
  },
  {
   "cell_type": "code",
   "execution_count": 44,
   "metadata": {
    "collapsed": true
   },
   "outputs": [],
   "source": [
    "session.run(tf.global_variables_initializer())"
   ]
  },
  {
   "cell_type": "markdown",
   "metadata": {},
   "source": [
    "## Minibatch helper function"
   ]
  },
  {
   "cell_type": "code",
   "execution_count": 45,
   "metadata": {
    "collapsed": true
   },
   "outputs": [],
   "source": [
    "batch_size = 64"
   ]
  },
  {
   "cell_type": "code",
   "execution_count": 46,
   "metadata": {
    "collapsed": true
   },
   "outputs": [],
   "source": [
    "def split_into_batches(X, Y):\n",
    "    full_sized = math.floor(X.shape[0] / batch_size)\n",
    "    print(f\"Full sized: {full_sized}\")\n",
    "    batches_X = []\n",
    "    batches_Y = []\n",
    "    \n",
    "    for i in range(full_sized):\n",
    "        batches_X.append(X[i*batch_size:(i+1) * batch_size])\n",
    "        batches_Y.append(Y[i*batch_size:(i+1) * batch_size])\n",
    "        \n",
    "        \n",
    "    last_elems = full_sized * batch_size - X.shape[0]\n",
    "    if last_elems != 0:\n",
    "        print(f\"kasel\")\n",
    "        batches_X.append(X[last_elems:])\n",
    "        batches_Y.append(Y[last_elems:])\n",
    "        \n",
    "    return batches_X, batches_Y\n",
    "    \n",
    "    "
   ]
  },
  {
   "cell_type": "code",
   "execution_count": 47,
   "metadata": {},
   "outputs": [
    {
     "name": "stdout",
     "output_type": "stream",
     "text": [
      "kasel\n",
      "CPU times: user 109 µs, sys: 11 µs, total: 120 µs\n",
      "Wall time: 85.1 µs\n"
     ]
    }
   ],
   "source": [
    "%%time\n",
    "print(\"kasel\")"
   ]
  },
  {
   "cell_type": "code",
   "execution_count": 48,
   "metadata": {
    "collapsed": true
   },
   "outputs": [],
   "source": [
    "total_epochs = 0\n",
    "def optimize(num_epochs):\n",
    "     \n",
    "    global total_epochs\n",
    "    start_time = time.time()\n",
    "    \n",
    "    for i in range(total_epochs, total_epochs + num_epochs):\n",
    "        \n",
    "        for x_batch, y_batch in zip(X_batches, Y_batches):\n",
    "            \n",
    "            feed_dict_train = {x: x_batch,\n",
    "                              y: y_batch}\n",
    "            \n",
    "#             print(feed_dict_train[x].shape)\n",
    "#             print(feed_dict_train[y].shape)\n",
    "            \n",
    "            session.run(optimizer, feed_dict=feed_dict_train)\n",
    "#             print(\":)\")\n",
    "        \n",
    "        feed_dict_train_acc = {x: train_X, y: train_Y}\n",
    "        acc = session.run(accuracy, feed_dict=feed_dict_train_acc)\n",
    "    \n",
    "        print(f\"Epoch {i}: Train_acc: {str(acc*100)[:5]}%\")\n",
    "        \n",
    "    total_epochs += num_epochs\n",
    "    \n",
    "    end_time = time.time()\n",
    "    \n",
    "    time_dif = end_time - start_time\n",
    "    \n",
    "    print(f\"Time usage: {timedelta(seconds=int(round(time_dif)))}\")"
   ]
  },
  {
   "cell_type": "code",
   "execution_count": 49,
   "metadata": {
    "collapsed": true
   },
   "outputs": [],
   "source": [
    "def print_accuracy(X, Y):\n",
    "    feed_dict_test = {x: X,\n",
    "                     y: Y}\n",
    "    \n",
    "#     print(feed_dict_test[x].shape)\n",
    "#     print(feed_dict_test[y].shape)\n",
    "    \n",
    "    pred_class = session.run(y_pred_class, feed_dict=feed_dict_test)\n",
    "    \n",
    "#     print(pred_class.shape)\n",
    "    \n",
    "    true_class = np.argmax(Y, axis=1)\n",
    "#     print(str(pred_class.shape) + \"||\" + str(true_class.shape))\n",
    "    pred_class = np.array(pred_class)\n",
    "    correct = (pred_class == true_class)\n",
    "    \n",
    "#     print(correct)\n",
    "    correct_sum = correct.sum()\n",
    "    \n",
    "    acc = float(correct_sum) / len(correct)\n",
    "    \n",
    "    return acc\n",
    "    print(f\"Test accuracy: {str(acc * 100)[:5]}%\")"
   ]
  },
  {
   "cell_type": "markdown",
   "metadata": {},
   "source": [
    "# Training"
   ]
  },
  {
   "cell_type": "code",
   "execution_count": 50,
   "metadata": {},
   "outputs": [
    {
     "name": "stdout",
     "output_type": "stream",
     "text": [
      "Full sized: 33\n",
      "kasel\n"
     ]
    }
   ],
   "source": [
    "X_batches, Y_batches = split_into_batches(train_X, train_Y)"
   ]
  },
  {
   "cell_type": "code",
   "execution_count": 51,
   "metadata": {},
   "outputs": [
    {
     "name": "stdout",
     "output_type": "stream",
     "text": [
      "(200, 64, 64, 1)\n"
     ]
    }
   ],
   "source": [
    "print(test_X.shape)"
   ]
  },
  {
   "cell_type": "code",
   "execution_count": 52,
   "metadata": {},
   "outputs": [
    {
     "name": "stdout",
     "output_type": "stream",
     "text": [
      "Test accuracy: 50.0%\n",
      "Train accuracy: 41.29%\n"
     ]
    }
   ],
   "source": [
    "print(f\"Test accuracy: {str(print_accuracy(test_X, test_Y) * 100)[:5]}%\")\n",
    "print(f\"Train accuracy: {str(print_accuracy(train_X, train_Y) * 100)[:5]}%\")"
   ]
  },
  {
   "cell_type": "code",
   "execution_count": 53,
   "metadata": {},
   "outputs": [
    {
     "name": "stdout",
     "output_type": "stream",
     "text": [
      "Epoch 0: Train_acc: 41.29%\n",
      "Time usage: 0:00:06\n"
     ]
    }
   ],
   "source": [
    "optimize(num_epochs=1)"
   ]
  },
  {
   "cell_type": "code",
   "execution_count": 54,
   "metadata": {},
   "outputs": [
    {
     "name": "stdout",
     "output_type": "stream",
     "text": [
      "Test accuracy: 50.0%\n",
      "Train accuracy: 41.29%\n"
     ]
    }
   ],
   "source": [
    "print(f\"Test accuracy: {str(print_accuracy(test_X, test_Y) * 100)[:5]}%\")\n",
    "print(f\"Train accuracy: {str(print_accuracy(train_X, train_Y) * 100)[:5]}%\")"
   ]
  },
  {
   "cell_type": "code",
   "execution_count": 55,
   "metadata": {},
   "outputs": [
    {
     "name": "stdout",
     "output_type": "stream",
     "text": [
      "Epoch 1: Train_acc: 41.29%\n",
      "Epoch 2: Train_acc: 41.29%\n",
      "Epoch 3: Train_acc: 41.29%\n",
      "Epoch 4: Train_acc: 41.29%\n",
      "Epoch 5: Train_acc: 41.29%\n",
      "Time usage: 0:00:25\n"
     ]
    }
   ],
   "source": [
    "optimize(num_epochs=5)"
   ]
  },
  {
   "cell_type": "code",
   "execution_count": 56,
   "metadata": {
    "collapsed": true
   },
   "outputs": [],
   "source": [
    "# saver.save(sess=session, save_path=save_dir)"
   ]
  },
  {
   "cell_type": "code",
   "execution_count": 57,
   "metadata": {},
   "outputs": [
    {
     "name": "stdout",
     "output_type": "stream",
     "text": [
      "Test accuracy: 50.0%\n",
      "Train accuracy: 41.29%\n"
     ]
    }
   ],
   "source": [
    "print(f\"Test accuracy: {str(print_accuracy(test_X, test_Y) * 100)[:5]}%\")\n",
    "print(f\"Train accuracy: {str(print_accuracy(train_X, train_Y) * 100)[:5]}%\")"
   ]
  },
  {
   "cell_type": "code",
   "execution_count": 58,
   "metadata": {},
   "outputs": [
    {
     "name": "stdout",
     "output_type": "stream",
     "text": [
      "Epoch 6: Train_acc: 41.29%\n",
      "Epoch 7: Train_acc: 51.37%\n",
      "Epoch 8: Train_acc: 92.53%\n",
      "Epoch 9: Train_acc: 97.85%\n",
      "Epoch 10: Train_acc: 97.85%\n",
      "Time usage: 0:00:24\n"
     ]
    }
   ],
   "source": [
    "optimize(num_epochs=5)"
   ]
  },
  {
   "cell_type": "code",
   "execution_count": 59,
   "metadata": {},
   "outputs": [
    {
     "name": "stdout",
     "output_type": "stream",
     "text": [
      "Test accuracy: 98.5%\n",
      "Train accuracy: 97.85%\n"
     ]
    }
   ],
   "source": [
    "print(f\"Test accuracy: {str(print_accuracy(test_X, test_Y) * 100)[:5]}%\")\n",
    "print(f\"Train accuracy: {str(print_accuracy(train_X, train_Y) * 100)[:5]}%\")"
   ]
  },
  {
   "cell_type": "code",
   "execution_count": 60,
   "metadata": {},
   "outputs": [
    {
     "name": "stdout",
     "output_type": "stream",
     "text": [
      "Epoch 11: Train_acc: 97.99%\n",
      "Epoch 12: Train_acc: 98.08%\n",
      "Epoch 13: Train_acc: 98.27%\n",
      "Epoch 14: Train_acc: 98.22%\n",
      "Epoch 15: Train_acc: 98.32%\n",
      "Time usage: 0:00:24\n"
     ]
    }
   ],
   "source": [
    "optimize(num_epochs=5)"
   ]
  },
  {
   "cell_type": "code",
   "execution_count": 61,
   "metadata": {},
   "outputs": [
    {
     "name": "stdout",
     "output_type": "stream",
     "text": [
      "Test accuracy: 98.5%\n",
      "Train accuracy: 98.32%\n"
     ]
    }
   ],
   "source": [
    "print(f\"Test accuracy: {str(print_accuracy(test_X, test_Y) * 100)[:5]}%\")\n",
    "print(f\"Train accuracy: {str(print_accuracy(train_X, train_Y) * 100)[:5]}%\")"
   ]
  },
  {
   "cell_type": "code",
   "execution_count": 62,
   "metadata": {},
   "outputs": [
    {
     "name": "stdout",
     "output_type": "stream",
     "text": [
      "Epoch 16: Train_acc: 98.36%\n",
      "Epoch 17: Train_acc: 98.46%\n",
      "Epoch 18: Train_acc: 98.50%\n",
      "Epoch 19: Train_acc: 98.55%\n",
      "Epoch 20: Train_acc: 98.55%\n",
      "Epoch 21: Train_acc: 98.60%\n",
      "Epoch 22: Train_acc: 98.60%\n",
      "Epoch 23: Train_acc: 98.74%\n",
      "Epoch 24: Train_acc: 98.69%\n",
      "Epoch 25: Train_acc: 98.97%\n",
      "Time usage: 0:00:50\n"
     ]
    }
   ],
   "source": [
    "optimize(num_epochs=10)"
   ]
  },
  {
   "cell_type": "code",
   "execution_count": 57,
   "metadata": {},
   "outputs": [
    {
     "name": "stdout",
     "output_type": "stream",
     "text": [
      "Test accuracy: 98.5%\n",
      "Train accuracy: 99.20%\n"
     ]
    }
   ],
   "source": [
    "print(f\"Test accuracy: {str(print_accuracy(test_X, test_Y) * 100)[:5]}%\")\n",
    "print(f\"Train accuracy: {str(print_accuracy(train_X, train_Y) * 100)[:5]}%\")"
   ]
  },
  {
   "cell_type": "code",
   "execution_count": 58,
   "metadata": {},
   "outputs": [
    {
     "name": "stdout",
     "output_type": "stream",
     "text": [
      "Epoch 26: Train_acc: 99.34%\n",
      "Epoch 27: Train_acc: 99.44%\n",
      "Epoch 28: Train_acc: 99.16%\n",
      "Epoch 29: Train_acc: 99.30%\n",
      "Epoch 30: Train_acc: 99.48%\n",
      "Epoch 31: Train_acc: 99.62%\n",
      "Epoch 32: Train_acc: 99.62%\n",
      "Epoch 33: Train_acc: 99.53%\n",
      "Epoch 34: Train_acc: 99.58%\n",
      "Epoch 35: Train_acc: 99.62%\n",
      "Time usage: 0:01:36\n"
     ]
    }
   ],
   "source": [
    "optimize(num_epochs=10)"
   ]
  },
  {
   "cell_type": "code",
   "execution_count": 59,
   "metadata": {},
   "outputs": [
    {
     "name": "stdout",
     "output_type": "stream",
     "text": [
      "Test accuracy: 99.0%\n",
      "Train accuracy: 99.62%\n"
     ]
    }
   ],
   "source": [
    "print(f\"Test accuracy: {str(print_accuracy(test_X, test_Y) * 100)[:5]}%\")\n",
    "print(f\"Train accuracy: {str(print_accuracy(train_X, train_Y) * 100)[:5]}%\")"
   ]
  },
  {
   "cell_type": "code",
   "execution_count": 63,
   "metadata": {},
   "outputs": [
    {
     "name": "stdout",
     "output_type": "stream",
     "text": [
      "Epoch 26: Train_acc: 99.25%\n",
      "Epoch 27: Train_acc: 99.25%\n",
      "Epoch 28: Train_acc: 99.34%\n",
      "Epoch 29: Train_acc: 99.44%\n",
      "Epoch 30: Train_acc: 99.44%\n",
      "Epoch 31: Train_acc: 99.53%\n",
      "Epoch 32: Train_acc: 99.58%\n",
      "Epoch 33: Train_acc: 99.58%\n",
      "Epoch 34: Train_acc: 99.58%\n",
      "Epoch 35: Train_acc: 99.58%\n",
      "Epoch 36: Train_acc: 99.58%\n",
      "Epoch 37: Train_acc: 99.58%\n",
      "Epoch 38: Train_acc: 99.62%\n",
      "Epoch 39: Train_acc: 99.67%\n",
      "Epoch 40: Train_acc: 99.72%\n",
      "Epoch 41: Train_acc: 99.72%\n",
      "Epoch 42: Train_acc: 99.72%\n",
      "Epoch 43: Train_acc: 99.72%\n",
      "Epoch 44: Train_acc: 99.67%\n",
      "Epoch 45: Train_acc: 99.67%\n",
      "Epoch 46: Train_acc: 99.72%\n",
      "Epoch 47: Train_acc: 99.72%\n",
      "Epoch 48: Train_acc: 99.72%\n",
      "Epoch 49: Train_acc: 99.72%\n",
      "Epoch 50: Train_acc: 99.76%\n",
      "Epoch 51: Train_acc: 99.76%\n",
      "Epoch 52: Train_acc: 99.81%\n",
      "Epoch 53: Train_acc: 99.81%\n",
      "Epoch 54: Train_acc: 99.90%\n",
      "Epoch 55: Train_acc: 99.86%\n",
      "Epoch 56: Train_acc: 99.86%\n",
      "Epoch 57: Train_acc: 99.81%\n",
      "Epoch 58: Train_acc: 99.81%\n",
      "Epoch 59: Train_acc: 99.86%\n",
      "Epoch 60: Train_acc: 99.90%\n",
      "Epoch 61: Train_acc: 99.81%\n",
      "Epoch 62: Train_acc: 99.95%\n",
      "Epoch 63: Train_acc: 100.0%\n",
      "Epoch 64: Train_acc: 99.95%\n",
      "Epoch 65: Train_acc: 100.0%\n",
      "Epoch 66: Train_acc: 100.0%\n",
      "Epoch 67: Train_acc: 100.0%\n",
      "Epoch 68: Train_acc: 100.0%\n"
     ]
    },
    {
     "ename": "KeyboardInterrupt",
     "evalue": "",
     "output_type": "error",
     "traceback": [
      "\u001b[0;31m---------------------------------------------------------------------------\u001b[0m",
      "\u001b[0;31mKeyboardInterrupt\u001b[0m                         Traceback (most recent call last)",
      "\u001b[0;32m<ipython-input-63-953ccdbe87ea>\u001b[0m in \u001b[0;36m<module>\u001b[0;34m()\u001b[0m\n\u001b[0;32m----> 1\u001b[0;31m \u001b[0moptimize\u001b[0m\u001b[0;34m(\u001b[0m\u001b[0mnum_epochs\u001b[0m\u001b[0;34m=\u001b[0m\u001b[0;36m100\u001b[0m\u001b[0;34m)\u001b[0m\u001b[0;34m\u001b[0m\u001b[0m\n\u001b[0m",
      "\u001b[0;32m<ipython-input-48-465837e7ac40>\u001b[0m in \u001b[0;36moptimize\u001b[0;34m(num_epochs)\u001b[0m\n\u001b[1;32m     15\u001b[0m \u001b[0;31m#             print(feed_dict_train[y].shape)\u001b[0m\u001b[0;34m\u001b[0m\u001b[0;34m\u001b[0m\u001b[0m\n\u001b[1;32m     16\u001b[0m \u001b[0;34m\u001b[0m\u001b[0m\n\u001b[0;32m---> 17\u001b[0;31m             \u001b[0msession\u001b[0m\u001b[0;34m.\u001b[0m\u001b[0mrun\u001b[0m\u001b[0;34m(\u001b[0m\u001b[0moptimizer\u001b[0m\u001b[0;34m,\u001b[0m \u001b[0mfeed_dict\u001b[0m\u001b[0;34m=\u001b[0m\u001b[0mfeed_dict_train\u001b[0m\u001b[0;34m)\u001b[0m\u001b[0;34m\u001b[0m\u001b[0m\n\u001b[0m\u001b[1;32m     18\u001b[0m \u001b[0;31m#             print(\":)\")\u001b[0m\u001b[0;34m\u001b[0m\u001b[0;34m\u001b[0m\u001b[0m\n\u001b[1;32m     19\u001b[0m \u001b[0;34m\u001b[0m\u001b[0m\n",
      "\u001b[0;32m~/anaconda3/lib/python3.6/site-packages/tensorflow/python/client/session.py\u001b[0m in \u001b[0;36mrun\u001b[0;34m(self, fetches, feed_dict, options, run_metadata)\u001b[0m\n\u001b[1;32m    893\u001b[0m     \u001b[0;32mtry\u001b[0m\u001b[0;34m:\u001b[0m\u001b[0;34m\u001b[0m\u001b[0m\n\u001b[1;32m    894\u001b[0m       result = self._run(None, fetches, feed_dict, options_ptr,\n\u001b[0;32m--> 895\u001b[0;31m                          run_metadata_ptr)\n\u001b[0m\u001b[1;32m    896\u001b[0m       \u001b[0;32mif\u001b[0m \u001b[0mrun_metadata\u001b[0m\u001b[0;34m:\u001b[0m\u001b[0;34m\u001b[0m\u001b[0m\n\u001b[1;32m    897\u001b[0m         \u001b[0mproto_data\u001b[0m \u001b[0;34m=\u001b[0m \u001b[0mtf_session\u001b[0m\u001b[0;34m.\u001b[0m\u001b[0mTF_GetBuffer\u001b[0m\u001b[0;34m(\u001b[0m\u001b[0mrun_metadata_ptr\u001b[0m\u001b[0;34m)\u001b[0m\u001b[0;34m\u001b[0m\u001b[0m\n",
      "\u001b[0;32m~/anaconda3/lib/python3.6/site-packages/tensorflow/python/client/session.py\u001b[0m in \u001b[0;36m_run\u001b[0;34m(self, handle, fetches, feed_dict, options, run_metadata)\u001b[0m\n\u001b[1;32m   1126\u001b[0m     \u001b[0;32mif\u001b[0m \u001b[0mfinal_fetches\u001b[0m \u001b[0;32mor\u001b[0m \u001b[0mfinal_targets\u001b[0m \u001b[0;32mor\u001b[0m \u001b[0;34m(\u001b[0m\u001b[0mhandle\u001b[0m \u001b[0;32mand\u001b[0m \u001b[0mfeed_dict_tensor\u001b[0m\u001b[0;34m)\u001b[0m\u001b[0;34m:\u001b[0m\u001b[0;34m\u001b[0m\u001b[0m\n\u001b[1;32m   1127\u001b[0m       results = self._do_run(handle, final_targets, final_fetches,\n\u001b[0;32m-> 1128\u001b[0;31m                              feed_dict_tensor, options, run_metadata)\n\u001b[0m\u001b[1;32m   1129\u001b[0m     \u001b[0;32melse\u001b[0m\u001b[0;34m:\u001b[0m\u001b[0;34m\u001b[0m\u001b[0m\n\u001b[1;32m   1130\u001b[0m       \u001b[0mresults\u001b[0m \u001b[0;34m=\u001b[0m \u001b[0;34m[\u001b[0m\u001b[0;34m]\u001b[0m\u001b[0;34m\u001b[0m\u001b[0m\n",
      "\u001b[0;32m~/anaconda3/lib/python3.6/site-packages/tensorflow/python/client/session.py\u001b[0m in \u001b[0;36m_do_run\u001b[0;34m(self, handle, target_list, fetch_list, feed_dict, options, run_metadata)\u001b[0m\n\u001b[1;32m   1342\u001b[0m     \u001b[0;32mif\u001b[0m \u001b[0mhandle\u001b[0m \u001b[0;32mis\u001b[0m \u001b[0;32mNone\u001b[0m\u001b[0;34m:\u001b[0m\u001b[0;34m\u001b[0m\u001b[0m\n\u001b[1;32m   1343\u001b[0m       return self._do_call(_run_fn, self._session, feeds, fetches, targets,\n\u001b[0;32m-> 1344\u001b[0;31m                            options, run_metadata)\n\u001b[0m\u001b[1;32m   1345\u001b[0m     \u001b[0;32melse\u001b[0m\u001b[0;34m:\u001b[0m\u001b[0;34m\u001b[0m\u001b[0m\n\u001b[1;32m   1346\u001b[0m       \u001b[0;32mreturn\u001b[0m \u001b[0mself\u001b[0m\u001b[0;34m.\u001b[0m\u001b[0m_do_call\u001b[0m\u001b[0;34m(\u001b[0m\u001b[0m_prun_fn\u001b[0m\u001b[0;34m,\u001b[0m \u001b[0mself\u001b[0m\u001b[0;34m.\u001b[0m\u001b[0m_session\u001b[0m\u001b[0;34m,\u001b[0m \u001b[0mhandle\u001b[0m\u001b[0;34m,\u001b[0m \u001b[0mfeeds\u001b[0m\u001b[0;34m,\u001b[0m \u001b[0mfetches\u001b[0m\u001b[0;34m)\u001b[0m\u001b[0;34m\u001b[0m\u001b[0m\n",
      "\u001b[0;32m~/anaconda3/lib/python3.6/site-packages/tensorflow/python/client/session.py\u001b[0m in \u001b[0;36m_do_call\u001b[0;34m(self, fn, *args)\u001b[0m\n\u001b[1;32m   1348\u001b[0m   \u001b[0;32mdef\u001b[0m \u001b[0m_do_call\u001b[0m\u001b[0;34m(\u001b[0m\u001b[0mself\u001b[0m\u001b[0;34m,\u001b[0m \u001b[0mfn\u001b[0m\u001b[0;34m,\u001b[0m \u001b[0;34m*\u001b[0m\u001b[0margs\u001b[0m\u001b[0;34m)\u001b[0m\u001b[0;34m:\u001b[0m\u001b[0;34m\u001b[0m\u001b[0m\n\u001b[1;32m   1349\u001b[0m     \u001b[0;32mtry\u001b[0m\u001b[0;34m:\u001b[0m\u001b[0;34m\u001b[0m\u001b[0m\n\u001b[0;32m-> 1350\u001b[0;31m       \u001b[0;32mreturn\u001b[0m \u001b[0mfn\u001b[0m\u001b[0;34m(\u001b[0m\u001b[0;34m*\u001b[0m\u001b[0margs\u001b[0m\u001b[0;34m)\u001b[0m\u001b[0;34m\u001b[0m\u001b[0m\n\u001b[0m\u001b[1;32m   1351\u001b[0m     \u001b[0;32mexcept\u001b[0m \u001b[0merrors\u001b[0m\u001b[0;34m.\u001b[0m\u001b[0mOpError\u001b[0m \u001b[0;32mas\u001b[0m \u001b[0me\u001b[0m\u001b[0;34m:\u001b[0m\u001b[0;34m\u001b[0m\u001b[0m\n\u001b[1;32m   1352\u001b[0m       \u001b[0mmessage\u001b[0m \u001b[0;34m=\u001b[0m \u001b[0mcompat\u001b[0m\u001b[0;34m.\u001b[0m\u001b[0mas_text\u001b[0m\u001b[0;34m(\u001b[0m\u001b[0me\u001b[0m\u001b[0;34m.\u001b[0m\u001b[0mmessage\u001b[0m\u001b[0;34m)\u001b[0m\u001b[0;34m\u001b[0m\u001b[0m\n",
      "\u001b[0;32m~/anaconda3/lib/python3.6/site-packages/tensorflow/python/client/session.py\u001b[0m in \u001b[0;36m_run_fn\u001b[0;34m(session, feed_dict, fetch_list, target_list, options, run_metadata)\u001b[0m\n\u001b[1;32m   1327\u001b[0m           return tf_session.TF_Run(session, options,\n\u001b[1;32m   1328\u001b[0m                                    \u001b[0mfeed_dict\u001b[0m\u001b[0;34m,\u001b[0m \u001b[0mfetch_list\u001b[0m\u001b[0;34m,\u001b[0m \u001b[0mtarget_list\u001b[0m\u001b[0;34m,\u001b[0m\u001b[0;34m\u001b[0m\u001b[0m\n\u001b[0;32m-> 1329\u001b[0;31m                                    status, run_metadata)\n\u001b[0m\u001b[1;32m   1330\u001b[0m \u001b[0;34m\u001b[0m\u001b[0m\n\u001b[1;32m   1331\u001b[0m     \u001b[0;32mdef\u001b[0m \u001b[0m_prun_fn\u001b[0m\u001b[0;34m(\u001b[0m\u001b[0msession\u001b[0m\u001b[0;34m,\u001b[0m \u001b[0mhandle\u001b[0m\u001b[0;34m,\u001b[0m \u001b[0mfeed_dict\u001b[0m\u001b[0;34m,\u001b[0m \u001b[0mfetch_list\u001b[0m\u001b[0;34m)\u001b[0m\u001b[0;34m:\u001b[0m\u001b[0;34m\u001b[0m\u001b[0m\n",
      "\u001b[0;31mKeyboardInterrupt\u001b[0m: "
     ]
    }
   ],
   "source": [
    "optimize(num_epochs=100)"
   ]
  },
  {
   "cell_type": "code",
   "execution_count": 64,
   "metadata": {},
   "outputs": [
    {
     "name": "stdout",
     "output_type": "stream",
     "text": [
      "Test accuracy: 99.5%\n",
      "Train accuracy: 100.0%\n"
     ]
    }
   ],
   "source": [
    "print(f\"Test accuracy: {str(print_accuracy(test_X, test_Y) * 100)[:5]}%\")\n",
    "print(f\"Train accuracy: {str(print_accuracy(train_X, train_Y) * 100)[:5]}%\")"
   ]
  },
  {
   "cell_type": "code",
   "execution_count": 64,
   "metadata": {
    "scrolled": true
   },
   "outputs": [
    {
     "data": {
      "image/png": "[encoded data removed]",
      "text/plain": [
       "<matplotlib.figure.Figure at 0x7fa836689908>"
      ]
     },
     "metadata": {},
     "output_type": "display_data"
    }
   ],
   "source": [
    "index = 95\n",
    "\n",
    "\n",
    "images = test_X[index:index+10]\n",
    "\n",
    "true_class = test_Y_class[index:index+10]\n",
    "\n",
    "feed_dict_test = {x: test_X, y: test_Y}\n",
    "\n",
    "preds = session.run(y_pred_class, feed_dict=feed_dict_test)[index:index+10]\n",
    "\n",
    "# preds = session.run(y_pred_class, feed_dict=feed_dict_test)\n",
    "# print(preds.shape)\n",
    "\n",
    "\n",
    "plot_images(images=images, true_class=true_class, pred_class=preds)"
   ]
  },
  {
   "cell_type": "code",
   "execution_count": 66,
   "metadata": {},
   "outputs": [
    {
     "name": "stdout",
     "output_type": "stream",
     "text": [
      "Epoch 36: Train_acc: 99.58%\n",
      "Epoch 37: Train_acc: 99.53%\n",
      "Epoch 38: Train_acc: 99.62%\n",
      "Epoch 39: Train_acc: 99.67%\n",
      "Epoch 40: Train_acc: 99.90%\n",
      "Epoch 41: Train_acc: 99.90%\n",
      "Epoch 42: Train_acc: 99.81%\n",
      "Epoch 43: Train_acc: 99.90%\n",
      "Epoch 44: Train_acc: 99.90%\n",
      "Epoch 45: Train_acc: 99.86%\n",
      "Time usage: 0:00:58\n"
     ]
    }
   ],
   "source": [
    "optimize(num_epochs=10)"
   ]
  },
  {
   "cell_type": "code",
   "execution_count": 67,
   "metadata": {},
   "outputs": [
    {
     "name": "stdout",
     "output_type": "stream",
     "text": [
      "Test accuracy: 99.0%\n",
      "Train accuracy: 99.86%\n"
     ]
    }
   ],
   "source": [
    "print(f\"Test accuracy: {str(print_accuracy(test_X, test_Y) * 100)[:5]}%\")\n",
    "print(f\"Train accuracy: {str(print_accuracy(train_X, train_Y) * 100)[:5]}%\")"
   ]
  },
  {
   "cell_type": "code",
   "execution_count": 68,
   "metadata": {},
   "outputs": [
    {
     "data": {
      "text/plain": [
       "'checkpoints/3_simpler/'"
      ]
     },
     "execution_count": 68,
     "metadata": {},
     "output_type": "execute_result"
    }
   ],
   "source": [
    "saver.save(sess=session, save_path=save_dir)"
   ]
  },
  {
   "cell_type": "code",
   "execution_count": null,
   "metadata": {
    "collapsed": true
   },
   "outputs": [],
   "source": [
    "# session.run(tf.global_variables_initializer())"
   ]
  },
  {
   "cell_type": "code",
   "execution_count": null,
   "metadata": {
    "collapsed": true
   },
   "outputs": [],
   "source": [
    "# print(f\"Test accuracy: {str(print_accuracy(test_X, test_Y) * 100)[:5]}%\")\n",
    "# print(f\"Train accuracy: {str(print_accuracy(train_X, train_Y) * 100)[:5]}%\")"
   ]
  },
  {
   "cell_type": "code",
   "execution_count": null,
   "metadata": {
    "collapsed": true
   },
   "outputs": [],
   "source": [
    "# saver.restore(sess=session, save_path=save_dir)"
   ]
  },
  {
   "cell_type": "code",
   "execution_count": null,
   "metadata": {
    "collapsed": true
   },
   "outputs": [],
   "source": [
    "# print(f\"Test accuracy: {str(print_accuracy(test_X, test_Y) * 100)[:5]}%\")\n",
    "# print(f\"Train accuracy: {str(print_accuracy(train_X, train_Y) * 100)[:5]}%\")"
   ]
  },
  {
   "cell_type": "code",
   "execution_count": null,
   "metadata": {
    "collapsed": true
   },
   "outputs": [],
   "source": []
  }
 ],
 "metadata": {
  "kernelspec": {
   "display_name": "Python 3",
   "language": "python",
   "name": "python3"
  },
  "language_info": {
   "codemirror_mode": {
    "name": "ipython",
    "version": 3
   },
   "file_extension": ".py",
   "mimetype": "text/x-python",
   "name": "python",
   "nbconvert_exporter": "python",
   "pygments_lexer": "ipython3",
   "version": "3.6.2"
  }
 },
 "nbformat": 4,
 "nbformat_minor": 2
}

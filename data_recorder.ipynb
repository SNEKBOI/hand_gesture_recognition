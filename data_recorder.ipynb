{
 "cells": [
  {
   "cell_type": "code",
   "execution_count": 1,
   "metadata": {
    "collapsed": true
   },
   "outputs": [],
   "source": [
    "import numpy as np\n",
    "import cv2\n",
    "import math\n",
    "import time"
   ]
  },
  {
   "cell_type": "code",
   "execution_count": 2,
   "metadata": {
    "collapsed": true
   },
   "outputs": [],
   "source": [
    "def resize_image(img, img_size):\n",
    "    y = math.floor((img_size/img.shape[0])*img.shape[1])\n",
    "    resized = cv2.resize(img, (y, img_size))\n",
    "    return resized\n",
    "\n",
    "def crop_edges(img, final_width):\n",
    "    left_border = math.floor((img.shape[1] - final_width) / 2)\n",
    "    right_border = final_width + left_border\n",
    "#     print(left_border)\n",
    "#     print(right_border)\n",
    "    img_cropped = img[:, left_border:right_border]\n",
    "    return img_cropped\n"
   ]
  },
  {
   "cell_type": "code",
   "execution_count": 3,
   "metadata": {
    "collapsed": true
   },
   "outputs": [],
   "source": [
    "def capture_images(image_size, image_count, PATH, file_name, capture_ratio=1, start_index=0, filetype='.jpg', cam_index=0):\n",
    "    cap = cv2.VideoCapture(cam_index)\n",
    "\n",
    "    start = time.time()\n",
    "\n",
    "    while(True):\n",
    "        ret, frame = cap.read()\n",
    "        gray = cv2.cvtColor(frame, cv2.COLOR_BGR2GRAY)\n",
    "        resized_img = resize_image(gray, image_size)\n",
    "        cropped_img = crop_edges(resized_img, image_size)\n",
    "\n",
    "        cv2.imshow('frame', frame)\n",
    "        cv2.imshow('final', cropped_img)\n",
    "        \n",
    "        if cv2.waitKey(1) & 0xFF == ord('q'):\n",
    "            break\n",
    "    \n",
    "    cv2.destroyAllWindows()\n",
    "    end_index = (start_index + image_count) * capture_ratio\n",
    "    print(start)    \n",
    "        \n",
    "    for i in range(image_count*capture_ratio):\n",
    "        ret, frame = cap.read()\n",
    "        gray = cv2.cvtColor(frame, cv2.COLOR_BGR2GRAY)\n",
    "\n",
    "#         print(f\"Real: {i}\")\n",
    "        \n",
    "        if i % capture_ratio == 0:\n",
    "            resized_img = resize_image(gray, image_size)\n",
    "            cropped_img = crop_edges(resized_img, image_size)\n",
    "#             print(f\"Real: {i}\")\n",
    "            \n",
    "            scaled_index = int(i - (i/capture_ratio)*(capture_ratio-1) + start_index)\n",
    "            \n",
    "#             print(f\"Scaled: {scaled_index}\")\n",
    "            cv2.imwrite(f\"{PATH}{file_name}{scaled_index}{filetype}\", cropped_img)\n",
    "            print(f\"{PATH}{file_name}{scaled_index}{filetype}\")\n",
    "            cv2.imshow('Resized', cropped_img)\n",
    "            \n",
    "        cv2.imshow('BGR', frame)\n",
    "\n",
    "        if cv2.waitKey(1) & 0xFF == ord('q'):\n",
    "#             cv2.imwrite('five/kasel.jpg', gray)\n",
    "            break\n",
    "\n",
    "    end = time.time()\n",
    "\n",
    "    print(end - start)\n",
    "\n",
    "    cap.release()\n",
    "    cv2.destroyAllWindows()"
   ]
  },
  {
   "cell_type": "code",
   "execution_count": 5,
   "metadata": {},
   "outputs": [
    {
     "name": "stdout",
     "output_type": "stream",
     "text": [
      "1520464115.283506\n",
      "data/like_dislike/test/dislike/A_dislike1.jpg\n",
      "data/like_dislike/test/dislike/A_dislike2.jpg\n",
      "data/like_dislike/test/dislike/A_dislike3.jpg\n",
      "data/like_dislike/test/dislike/A_dislike4.jpg\n",
      "data/like_dislike/test/dislike/A_dislike5.jpg\n",
      "data/like_dislike/test/dislike/A_dislike6.jpg\n",
      "data/like_dislike/test/dislike/A_dislike7.jpg\n",
      "data/like_dislike/test/dislike/A_dislike8.jpg\n",
      "data/like_dislike/test/dislike/A_dislike9.jpg\n",
      "data/like_dislike/test/dislike/A_dislike10.jpg\n",
      "data/like_dislike/test/dislike/A_dislike11.jpg\n",
      "data/like_dislike/test/dislike/A_dislike12.jpg\n",
      "data/like_dislike/test/dislike/A_dislike13.jpg\n",
      "data/like_dislike/test/dislike/A_dislike14.jpg\n",
      "data/like_dislike/test/dislike/A_dislike15.jpg\n",
      "data/like_dislike/test/dislike/A_dislike16.jpg\n",
      "data/like_dislike/test/dislike/A_dislike17.jpg\n",
      "data/like_dislike/test/dislike/A_dislike18.jpg\n",
      "data/like_dislike/test/dislike/A_dislike19.jpg\n",
      "data/like_dislike/test/dislike/A_dislike20.jpg\n",
      "data/like_dislike/test/dislike/A_dislike21.jpg\n",
      "data/like_dislike/test/dislike/A_dislike22.jpg\n",
      "data/like_dislike/test/dislike/A_dislike23.jpg\n",
      "data/like_dislike/test/dislike/A_dislike24.jpg\n",
      "data/like_dislike/test/dislike/A_dislike25.jpg\n",
      "data/like_dislike/test/dislike/A_dislike26.jpg\n",
      "data/like_dislike/test/dislike/A_dislike27.jpg\n",
      "data/like_dislike/test/dislike/A_dislike28.jpg\n",
      "data/like_dislike/test/dislike/A_dislike29.jpg\n",
      "data/like_dislike/test/dislike/A_dislike30.jpg\n",
      "data/like_dislike/test/dislike/A_dislike31.jpg\n",
      "data/like_dislike/test/dislike/A_dislike32.jpg\n",
      "data/like_dislike/test/dislike/A_dislike33.jpg\n",
      "data/like_dislike/test/dislike/A_dislike34.jpg\n",
      "data/like_dislike/test/dislike/A_dislike35.jpg\n",
      "data/like_dislike/test/dislike/A_dislike36.jpg\n",
      "data/like_dislike/test/dislike/A_dislike37.jpg\n",
      "data/like_dislike/test/dislike/A_dislike38.jpg\n",
      "data/like_dislike/test/dislike/A_dislike39.jpg\n",
      "data/like_dislike/test/dislike/A_dislike40.jpg\n",
      "data/like_dislike/test/dislike/A_dislike41.jpg\n",
      "data/like_dislike/test/dislike/A_dislike42.jpg\n",
      "data/like_dislike/test/dislike/A_dislike43.jpg\n",
      "data/like_dislike/test/dislike/A_dislike44.jpg\n",
      "data/like_dislike/test/dislike/A_dislike45.jpg\n",
      "data/like_dislike/test/dislike/A_dislike46.jpg\n",
      "data/like_dislike/test/dislike/A_dislike47.jpg\n",
      "data/like_dislike/test/dislike/A_dislike48.jpg\n",
      "data/like_dislike/test/dislike/A_dislike49.jpg\n",
      "data/like_dislike/test/dislike/A_dislike50.jpg\n",
      "20.617616415023804\n"
     ]
    }
   ],
   "source": [
    "cam_index = 0\n",
    "image_size = 100\n",
    "image_count = 50\n",
    "nth_image = 3\n",
    "\n",
    "start_index = 1\n",
    "\n",
    "PATH = 'data/like_dislike/test/dislike/'\n",
    "file_name = 'A_dislike'\n",
    "filetype = '.jpg'\n",
    "\n",
    "capture_images(image_size=image_size, image_count=image_count, PATH=PATH, capture_ratio=5, start_index = start_index, file_name=file_name, filetype=filetype)"
   ]
  },
  {
   "cell_type": "code",
   "execution_count": 5,
   "metadata": {},
   "outputs": [
    {
     "data": {
      "text/plain": [
       "0"
      ]
     },
     "execution_count": 5,
     "metadata": {},
     "output_type": "execute_result"
    }
   ],
   "source": [
    "0 % 3"
   ]
  },
  {
   "cell_type": "code",
   "execution_count": null,
   "metadata": {
    "collapsed": true
   },
   "outputs": [],
   "source": []
  }
 ],
 "metadata": {
  "kernelspec": {
   "display_name": "Python 3",
   "language": "python",
   "name": "python3"
  },
  "language_info": {
   "codemirror_mode": {
    "name": "ipython",
    "version": 3
   },
   "file_extension": ".py",
   "mimetype": "text/x-python",
   "name": "python",
   "nbconvert_exporter": "python",
   "pygments_lexer": "ipython3",
   "version": "3.6.3"
  }
 },
 "nbformat": 4,
 "nbformat_minor": 2
}
